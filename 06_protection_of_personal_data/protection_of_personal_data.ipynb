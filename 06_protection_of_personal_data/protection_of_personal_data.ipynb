{
 "cells": [
  {
   "cell_type": "markdown",
   "metadata": {
    "toc": true
   },
   "source": [
    "<h1>Содержание<span class=\"tocSkip\"></span></h1>\n",
    "<div class=\"toc\"><ul class=\"toc-item\"><li><span><a href=\"#Подготовка-данных\" data-toc-modified-id=\"Подготовка-данных-1\"><span class=\"toc-item-num\">1&nbsp;&nbsp;</span>Подготовка данных</a></span><ul class=\"toc-item\"><li><span><a href=\"#Изучение-основной-информации-о-датасетах\" data-toc-modified-id=\"Изучение-основной-информации-о-датасетах-1.1\"><span class=\"toc-item-num\">1.1&nbsp;&nbsp;</span>Изучение основной информации о датасетах</a></span></li><li><span><a href=\"#Переименование-столбцов\" data-toc-modified-id=\"Переименование-столбцов-1.2\"><span class=\"toc-item-num\">1.2&nbsp;&nbsp;</span>Переименование столбцов</a></span></li><li><span><a href=\"#Поиск-дубликатов\" data-toc-modified-id=\"Поиск-дубликатов-1.3\"><span class=\"toc-item-num\">1.3&nbsp;&nbsp;</span>Поиск дубликатов</a></span></li><li><span><a href=\"#Проверка-на-мультиколлинеарность\" data-toc-modified-id=\"Проверка-на-мультиколлинеарность-1.4\"><span class=\"toc-item-num\">1.4&nbsp;&nbsp;</span>Проверка на мультиколлинеарность</a></span></li></ul></li><li><span><a href=\"#Умножение-матриц\" data-toc-modified-id=\"Умножение-матриц-2\"><span class=\"toc-item-num\">2&nbsp;&nbsp;</span>Умножение матриц</a></span></li><li><span><a href=\"#Алгоритм-преобразования\" data-toc-modified-id=\"Алгоритм-преобразования-3\"><span class=\"toc-item-num\">3&nbsp;&nbsp;</span>Алгоритм преобразования</a></span></li><li><span><a href=\"#Проверка-алгоритма\" data-toc-modified-id=\"Проверка-алгоритма-4\"><span class=\"toc-item-num\">4&nbsp;&nbsp;</span>Проверка алгоритма</a></span><ul class=\"toc-item\"><li><span><a href=\"#Разбиение-данных\" data-toc-modified-id=\"Разбиение-данных-4.1\"><span class=\"toc-item-num\">4.1&nbsp;&nbsp;</span>Разбиение данных</a></span></li><li><span><a href=\"#Создание-трансформера-для-преобразования-данных\" data-toc-modified-id=\"Создание-трансформера-для-преобразования-данных-4.2\"><span class=\"toc-item-num\">4.2&nbsp;&nbsp;</span>Создание трансформера для преобразования данных</a></span></li><li><span><a href=\"#Обучение-моделей\" data-toc-modified-id=\"Обучение-моделей-4.3\"><span class=\"toc-item-num\">4.3&nbsp;&nbsp;</span>Обучение моделей</a></span></li></ul></li><li><span><a href=\"#Общий-вывод\" data-toc-modified-id=\"Общий-вывод-5\"><span class=\"toc-item-num\">5&nbsp;&nbsp;</span>Общий вывод</a></span></li></ul></div>"
   ]
  },
  {
   "cell_type": "markdown",
   "metadata": {},
   "source": [
    "# Разработка метода преобразования для защиты персональных данных клиентов"
   ]
  },
  {
   "cell_type": "markdown",
   "metadata": {},
   "source": [
    "Нам нужно защитить данные клиентов страховой компании. Разработаем такой метод преобразования данных, чтобы по ним было сложно восстановить персональную информацию и обоснуем корректность его работы.\n",
    "\n",
    "Нам нужно защитить данные, чтобы при преобразовании качество моделей машинного обучения не ухудшилось."
   ]
  },
  {
   "cell_type": "code",
   "execution_count": 1,
   "metadata": {},
   "outputs": [],
   "source": [
    "# Импортируем основные библиотеки для работы\n",
    "import warnings\n",
    "import pandas as pd\n",
    "import matplotlib.pyplot as plt\n",
    "import numpy as np\n",
    "import seaborn as sns\n",
    "\n",
    "# Импортируем модели, метрики, вспомогательные инструменты и функции\n",
    "from sklearn.linear_model import LinearRegression\n",
    "from sklearn.metrics import r2_score\n",
    "from sklearn.model_selection import train_test_split\n",
    "from sklearn.pipeline import Pipeline\n",
    "from sklearn.base import TransformerMixin, BaseEstimator\n",
    "\n",
    "# warnings.filterwarnings(\"ignore\", category=FutureWarning) \n",
    "\n",
    "pd.set_option('display.max_columns', None)\n",
    "\n",
    "random_state = 42\n",
    "\n",
    "np.random.seed(random_state)"
   ]
  },
  {
   "cell_type": "markdown",
   "metadata": {},
   "source": [
    "## Подготовка данных"
   ]
  },
  {
   "cell_type": "markdown",
   "metadata": {},
   "source": [
    "### Изучение основной информации о датасетах"
   ]
  },
  {
   "cell_type": "markdown",
   "metadata": {},
   "source": [
    "Откроем файл и сохраним его в переменной `df`, получим основную информацию с помощью метода .info() и построим гистограммы для всех признаков датасета."
   ]
  },
  {
   "cell_type": "code",
   "execution_count": 2,
   "metadata": {},
   "outputs": [],
   "source": [
    "df = pd.read_csv('/datasets/insurance.csv')"
   ]
  },
  {
   "cell_type": "code",
   "execution_count": 3,
   "metadata": {},
   "outputs": [
    {
     "data": {
      "text/html": [
       "<div>\n",
       "<style scoped>\n",
       "    .dataframe tbody tr th:only-of-type {\n",
       "        vertical-align: middle;\n",
       "    }\n",
       "\n",
       "    .dataframe tbody tr th {\n",
       "        vertical-align: top;\n",
       "    }\n",
       "\n",
       "    .dataframe thead th {\n",
       "        text-align: right;\n",
       "    }\n",
       "</style>\n",
       "<table border=\"1\" class=\"dataframe\">\n",
       "  <thead>\n",
       "    <tr style=\"text-align: right;\">\n",
       "      <th></th>\n",
       "      <th>Пол</th>\n",
       "      <th>Возраст</th>\n",
       "      <th>Зарплата</th>\n",
       "      <th>Члены семьи</th>\n",
       "      <th>Страховые выплаты</th>\n",
       "    </tr>\n",
       "  </thead>\n",
       "  <tbody>\n",
       "    <tr>\n",
       "      <th>0</th>\n",
       "      <td>1</td>\n",
       "      <td>41.0</td>\n",
       "      <td>49600.0</td>\n",
       "      <td>1</td>\n",
       "      <td>0</td>\n",
       "    </tr>\n",
       "    <tr>\n",
       "      <th>1</th>\n",
       "      <td>0</td>\n",
       "      <td>46.0</td>\n",
       "      <td>38000.0</td>\n",
       "      <td>1</td>\n",
       "      <td>1</td>\n",
       "    </tr>\n",
       "    <tr>\n",
       "      <th>2</th>\n",
       "      <td>0</td>\n",
       "      <td>29.0</td>\n",
       "      <td>21000.0</td>\n",
       "      <td>0</td>\n",
       "      <td>0</td>\n",
       "    </tr>\n",
       "    <tr>\n",
       "      <th>3</th>\n",
       "      <td>0</td>\n",
       "      <td>21.0</td>\n",
       "      <td>41700.0</td>\n",
       "      <td>2</td>\n",
       "      <td>0</td>\n",
       "    </tr>\n",
       "    <tr>\n",
       "      <th>4</th>\n",
       "      <td>1</td>\n",
       "      <td>28.0</td>\n",
       "      <td>26100.0</td>\n",
       "      <td>0</td>\n",
       "      <td>0</td>\n",
       "    </tr>\n",
       "  </tbody>\n",
       "</table>\n",
       "</div>"
      ],
      "text/plain": [
       "   Пол  Возраст  Зарплата  Члены семьи  Страховые выплаты\n",
       "0    1     41.0   49600.0            1                  0\n",
       "1    0     46.0   38000.0            1                  1\n",
       "2    0     29.0   21000.0            0                  0\n",
       "3    0     21.0   41700.0            2                  0\n",
       "4    1     28.0   26100.0            0                  0"
      ]
     },
     "execution_count": 3,
     "metadata": {},
     "output_type": "execute_result"
    }
   ],
   "source": [
    "df.head()"
   ]
  },
  {
   "cell_type": "code",
   "execution_count": 4,
   "metadata": {},
   "outputs": [
    {
     "name": "stdout",
     "output_type": "stream",
     "text": [
      "<class 'pandas.core.frame.DataFrame'>\n",
      "RangeIndex: 5000 entries, 0 to 4999\n",
      "Data columns (total 5 columns):\n",
      " #   Column             Non-Null Count  Dtype  \n",
      "---  ------             --------------  -----  \n",
      " 0   Пол                5000 non-null   int64  \n",
      " 1   Возраст            5000 non-null   float64\n",
      " 2   Зарплата           5000 non-null   float64\n",
      " 3   Члены семьи        5000 non-null   int64  \n",
      " 4   Страховые выплаты  5000 non-null   int64  \n",
      "dtypes: float64(2), int64(3)\n",
      "memory usage: 195.4 KB\n"
     ]
    }
   ],
   "source": [
    "df.info()"
   ]
  },
  {
   "cell_type": "code",
   "execution_count": 5,
   "metadata": {
    "scrolled": false
   },
   "outputs": [
    {
     "data": {
      "image/png": "[encoded data removed]",
      "text/plain": [
       "<Figure size 1440x1080 with 6 Axes>"
      ]
     },
     "metadata": {
      "needs_background": "light"
     },
     "output_type": "display_data"
    }
   ],
   "source": [
    "df.hist(figsize=(20, 15), bins=100)\n",
    "plt.show()"
   ]
  },
  {
   "cell_type": "code",
   "execution_count": 6,
   "metadata": {},
   "outputs": [
    {
     "data": {
      "text/html": [
       "<div>\n",
       "<style scoped>\n",
       "    .dataframe tbody tr th:only-of-type {\n",
       "        vertical-align: middle;\n",
       "    }\n",
       "\n",
       "    .dataframe tbody tr th {\n",
       "        vertical-align: top;\n",
       "    }\n",
       "\n",
       "    .dataframe thead th {\n",
       "        text-align: right;\n",
       "    }\n",
       "</style>\n",
       "<table border=\"1\" class=\"dataframe\">\n",
       "  <thead>\n",
       "    <tr style=\"text-align: right;\">\n",
       "      <th></th>\n",
       "      <th>Пол</th>\n",
       "      <th>Возраст</th>\n",
       "      <th>Зарплата</th>\n",
       "      <th>Члены семьи</th>\n",
       "      <th>Страховые выплаты</th>\n",
       "    </tr>\n",
       "  </thead>\n",
       "  <tbody>\n",
       "    <tr>\n",
       "      <th>count</th>\n",
       "      <td>5000.000000</td>\n",
       "      <td>5000.000000</td>\n",
       "      <td>5000.000000</td>\n",
       "      <td>5000.000000</td>\n",
       "      <td>5000.000000</td>\n",
       "    </tr>\n",
       "    <tr>\n",
       "      <th>mean</th>\n",
       "      <td>0.499000</td>\n",
       "      <td>30.952800</td>\n",
       "      <td>39916.360000</td>\n",
       "      <td>1.194200</td>\n",
       "      <td>0.148000</td>\n",
       "    </tr>\n",
       "    <tr>\n",
       "      <th>std</th>\n",
       "      <td>0.500049</td>\n",
       "      <td>8.440807</td>\n",
       "      <td>9900.083569</td>\n",
       "      <td>1.091387</td>\n",
       "      <td>0.463183</td>\n",
       "    </tr>\n",
       "    <tr>\n",
       "      <th>min</th>\n",
       "      <td>0.000000</td>\n",
       "      <td>18.000000</td>\n",
       "      <td>5300.000000</td>\n",
       "      <td>0.000000</td>\n",
       "      <td>0.000000</td>\n",
       "    </tr>\n",
       "    <tr>\n",
       "      <th>25%</th>\n",
       "      <td>0.000000</td>\n",
       "      <td>24.000000</td>\n",
       "      <td>33300.000000</td>\n",
       "      <td>0.000000</td>\n",
       "      <td>0.000000</td>\n",
       "    </tr>\n",
       "    <tr>\n",
       "      <th>50%</th>\n",
       "      <td>0.000000</td>\n",
       "      <td>30.000000</td>\n",
       "      <td>40200.000000</td>\n",
       "      <td>1.000000</td>\n",
       "      <td>0.000000</td>\n",
       "    </tr>\n",
       "    <tr>\n",
       "      <th>75%</th>\n",
       "      <td>1.000000</td>\n",
       "      <td>37.000000</td>\n",
       "      <td>46600.000000</td>\n",
       "      <td>2.000000</td>\n",
       "      <td>0.000000</td>\n",
       "    </tr>\n",
       "    <tr>\n",
       "      <th>max</th>\n",
       "      <td>1.000000</td>\n",
       "      <td>65.000000</td>\n",
       "      <td>79000.000000</td>\n",
       "      <td>6.000000</td>\n",
       "      <td>5.000000</td>\n",
       "    </tr>\n",
       "  </tbody>\n",
       "</table>\n",
       "</div>"
      ],
      "text/plain": [
       "               Пол      Возраст      Зарплата  Члены семьи  Страховые выплаты\n",
       "count  5000.000000  5000.000000   5000.000000  5000.000000        5000.000000\n",
       "mean      0.499000    30.952800  39916.360000     1.194200           0.148000\n",
       "std       0.500049     8.440807   9900.083569     1.091387           0.463183\n",
       "min       0.000000    18.000000   5300.000000     0.000000           0.000000\n",
       "25%       0.000000    24.000000  33300.000000     0.000000           0.000000\n",
       "50%       0.000000    30.000000  40200.000000     1.000000           0.000000\n",
       "75%       1.000000    37.000000  46600.000000     2.000000           0.000000\n",
       "max       1.000000    65.000000  79000.000000     6.000000           5.000000"
      ]
     },
     "execution_count": 6,
     "metadata": {},
     "output_type": "execute_result"
    }
   ],
   "source": [
    "df.describe()"
   ]
  },
  {
   "cell_type": "markdown",
   "metadata": {},
   "source": [
    "---\n",
    "**Вывод:** изучив основную информацию о датасете, можно утверждать, что\n",
    "- столбцы имеют русские имена, приведём их к английским - для удобства; \n",
    "- в данных нет пропусков;\n",
    "- на всякий случай имеет смысл проверить данные на дубликаты;\n",
    "- в данных нет экстремальных значений и явных выбросов;\n",
    "- необходимо проверить данные на мультиколлинеарность."
   ]
  },
  {
   "cell_type": "markdown",
   "metadata": {},
   "source": [
    "### Переименование столбцов"
   ]
  },
  {
   "cell_type": "markdown",
   "metadata": {},
   "source": [
    "Переименуем столбцы для нашего дальнейшего удобства."
   ]
  },
  {
   "cell_type": "code",
   "execution_count": 7,
   "metadata": {},
   "outputs": [],
   "source": [
    "df = df.rename(\n",
    "    columns={\n",
    "        'Пол' : 'sex',\n",
    "        'Возраст' : 'age',\n",
    "        'Зарплата' : 'wage',\n",
    "        'Члены семьи' : 'family_members',\n",
    "        'Страховые выплаты' : 'insurance_payments'\n",
    "    }\n",
    ")"
   ]
  },
  {
   "cell_type": "code",
   "execution_count": 8,
   "metadata": {},
   "outputs": [
    {
     "name": "stdout",
     "output_type": "stream",
     "text": [
      "<class 'pandas.core.frame.DataFrame'>\n",
      "RangeIndex: 5000 entries, 0 to 4999\n",
      "Data columns (total 5 columns):\n",
      " #   Column              Non-Null Count  Dtype  \n",
      "---  ------              --------------  -----  \n",
      " 0   sex                 5000 non-null   int64  \n",
      " 1   age                 5000 non-null   float64\n",
      " 2   wage                5000 non-null   float64\n",
      " 3   family_members      5000 non-null   int64  \n",
      " 4   insurance_payments  5000 non-null   int64  \n",
      "dtypes: float64(2), int64(3)\n",
      "memory usage: 195.4 KB\n"
     ]
    }
   ],
   "source": [
    "df.info()"
   ]
  },
  {
   "cell_type": "markdown",
   "metadata": {},
   "source": [
    "### Поиск дубликатов"
   ]
  },
  {
   "cell_type": "markdown",
   "metadata": {},
   "source": [
    "Произведём поиск явных дубликатов:"
   ]
  },
  {
   "cell_type": "code",
   "execution_count": 9,
   "metadata": {},
   "outputs": [
    {
     "data": {
      "text/plain": [
       "153"
      ]
     },
     "execution_count": 9,
     "metadata": {},
     "output_type": "execute_result"
    }
   ],
   "source": [
    "df.duplicated().sum()"
   ]
  },
  {
   "cell_type": "code",
   "execution_count": 10,
   "metadata": {},
   "outputs": [
    {
     "data": {
      "text/html": [
       "<div>\n",
       "<style scoped>\n",
       "    .dataframe tbody tr th:only-of-type {\n",
       "        vertical-align: middle;\n",
       "    }\n",
       "\n",
       "    .dataframe tbody tr th {\n",
       "        vertical-align: top;\n",
       "    }\n",
       "\n",
       "    .dataframe thead th {\n",
       "        text-align: right;\n",
       "    }\n",
       "</style>\n",
       "<table border=\"1\" class=\"dataframe\">\n",
       "  <thead>\n",
       "    <tr style=\"text-align: right;\">\n",
       "      <th></th>\n",
       "      <th>sex</th>\n",
       "      <th>age</th>\n",
       "      <th>wage</th>\n",
       "      <th>family_members</th>\n",
       "      <th>insurance_payments</th>\n",
       "    </tr>\n",
       "  </thead>\n",
       "  <tbody>\n",
       "    <tr>\n",
       "      <th>281</th>\n",
       "      <td>1</td>\n",
       "      <td>39.0</td>\n",
       "      <td>48100.0</td>\n",
       "      <td>1</td>\n",
       "      <td>0</td>\n",
       "    </tr>\n",
       "    <tr>\n",
       "      <th>488</th>\n",
       "      <td>1</td>\n",
       "      <td>24.0</td>\n",
       "      <td>32900.0</td>\n",
       "      <td>1</td>\n",
       "      <td>0</td>\n",
       "    </tr>\n",
       "    <tr>\n",
       "      <th>513</th>\n",
       "      <td>0</td>\n",
       "      <td>31.0</td>\n",
       "      <td>37400.0</td>\n",
       "      <td>2</td>\n",
       "      <td>0</td>\n",
       "    </tr>\n",
       "    <tr>\n",
       "      <th>718</th>\n",
       "      <td>1</td>\n",
       "      <td>22.0</td>\n",
       "      <td>32600.0</td>\n",
       "      <td>1</td>\n",
       "      <td>0</td>\n",
       "    </tr>\n",
       "    <tr>\n",
       "      <th>785</th>\n",
       "      <td>0</td>\n",
       "      <td>20.0</td>\n",
       "      <td>35800.0</td>\n",
       "      <td>0</td>\n",
       "      <td>0</td>\n",
       "    </tr>\n",
       "  </tbody>\n",
       "</table>\n",
       "</div>"
      ],
      "text/plain": [
       "     sex   age     wage  family_members  insurance_payments\n",
       "281    1  39.0  48100.0               1                   0\n",
       "488    1  24.0  32900.0               1                   0\n",
       "513    0  31.0  37400.0               2                   0\n",
       "718    1  22.0  32600.0               1                   0\n",
       "785    0  20.0  35800.0               0                   0"
      ]
     },
     "execution_count": 10,
     "metadata": {},
     "output_type": "execute_result"
    }
   ],
   "source": [
    "df[df.duplicated()].head()"
   ]
  },
  {
   "cell_type": "markdown",
   "metadata": {},
   "source": [
    "Избавимся от дубликатов."
   ]
  },
  {
   "cell_type": "code",
   "execution_count": 11,
   "metadata": {},
   "outputs": [
    {
     "name": "stdout",
     "output_type": "stream",
     "text": [
      "Количество строк до удаления дубликатов: 5000.\n",
      "Количество строк после удаления дубликатов: 4847.\n"
     ]
    }
   ],
   "source": [
    "print(f'Количество строк до удаления дубликатов: {df.shape[0]}.')\n",
    "df = df.drop_duplicates()\n",
    "print(f'Количество строк после удаления дубликатов: {df.shape[0]}.')"
   ]
  },
  {
   "cell_type": "markdown",
   "metadata": {},
   "source": [
    "### Проверка на мультиколлинеарность"
   ]
  },
  {
   "cell_type": "markdown",
   "metadata": {},
   "source": [
    "Проверим линейные корреляции признаков нашего датасета:"
   ]
  },
  {
   "cell_type": "code",
   "execution_count": 12,
   "metadata": {},
   "outputs": [
    {
     "data": {
      "image/png": "[encoded data removed]",
      "text/plain": [
       "<Figure size 1080x720 with 2 Axes>"
      ]
     },
     "metadata": {},
     "output_type": "display_data"
    }
   ],
   "source": [
    "sns.set(rc={'figure.figsize':(15,10)})\n",
    "sns.heatmap(df.corr(), annot=True, mask=np.triu(np.ones_like(df.corr())))\n",
    "plt.show()"
   ]
  },
  {
   "cell_type": "markdown",
   "metadata": {},
   "source": [
    "Как мы видим, сильных корреляций между признаками нет (исключая среднюю корреляцию между целевым признаком и возрастом); проблемы мультиколлинеарности в данных нет."
   ]
  },
  {
   "cell_type": "markdown",
   "metadata": {},
   "source": [
    "---\n",
    "**Вывод**: закончив этап подготовки данных, мы\n",
    "- привели названия столбцов к английским - для удобства; \n",
    "- не обнаружили пропусков;\n",
    "- проверили данные на дубликаты, обнаружили и удалили их (153 строки из 5000);\n",
    "- не обнаружили явных выбросов;\n",
    "- проверили данные на мультиколлинеарность - её нет."
   ]
  },
  {
   "cell_type": "markdown",
   "metadata": {},
   "source": [
    "## Умножение матриц"
   ]
  },
  {
   "cell_type": "markdown",
   "metadata": {},
   "source": [
    "Обозначения:\n",
    "\n",
    "- $X$ — матрица признаков (нулевой столбец состоит из единиц)\n",
    "\n",
    "- $y$ — вектор целевого признака\n",
    "\n",
    "- $P$ — матрица, на которую умножаются признаки\n",
    "\n",
    "- $w$ — вектор весов линейной регрессии (нулевой элемент равен сдвигу)"
   ]
  },
  {
   "cell_type": "markdown",
   "metadata": {},
   "source": [
    "Предсказания:\n",
    "\n",
    "$$\n",
    "a = Xw\n",
    "$$\n",
    "\n",
    "Задача обучения:\n",
    "\n",
    "$$\n",
    "w = \\arg\\min_w MSE(Xw, y)\n",
    "$$\n",
    "\n",
    "Формула обучения:\n",
    "\n",
    "$$\n",
    "w = (X^T X)^{-1} X^T y\n",
    "$$"
   ]
  },
  {
   "cell_type": "markdown",
   "metadata": {},
   "source": [
    "**Вопрос:** признаки умножают на обратимую матрицу. Изменится ли качество линейной регрессии?"
   ]
  },
  {
   "cell_type": "markdown",
   "metadata": {},
   "source": [
    "**Ответ:** Не изменится.\n",
    "\n",
    "**Обоснование:** \n",
    "\n",
    "Допустим, \n",
    "\n",
    "$$\n",
    "X' = XP \n",
    "$$\n",
    "\n",
    "Тогда \n",
    "\n",
    "$$\n",
    "a' = X'w' \n",
    "$$\n",
    "\n",
    "И формула обучения\n",
    "\n",
    "$$\n",
    "w' = (X'^T X')^{-1} X'^T y =\n",
    " ((X P)^T X P)^{-1} (X P)^T y = \n",
    " P^{-1} ((X P)^T X)^{-1} (X P)^T y = \n",
    " P^{-1} (P^T X^T X)^{-1} (X P)^T y = \n",
    " P^{-1} (X^T X)^{-1} (P^T)^{-1} (X P)^T y =\n",
    " P^{-1} (X^T X)^{-1} (P^T)^{-1} P^T X^T y =\n",
    " P^{-1} (X^T X)^{-1} E X^T y = \n",
    " P^{-1} (X^T X)^{-1} X^T y = \n",
    " P^{-1} w \n",
    "$$\n",
    "\n",
    "Подставляя вектор весов $ w' $ в $ a' $:\n",
    "$$\n",
    "a' = X'w' = X P P^{-1} w = X E w = Xw = a\n",
    "$$\n",
    "Отсюда мы видим, что предсказания для признаков, умноженных на обратимую матрицу остаются такими же. Значит, качество линейной регрессии не изменится."
   ]
  },
  {
   "cell_type": "markdown",
   "metadata": {},
   "source": [
    "В качестве альтернативы рассмотрим доказательство через тождественность задачи обучения.\n",
    "\n",
    "Возьмём\n",
    "\n",
    "$$\n",
    "w = \\arg\\min_w MSE(Xw, y)\n",
    "$$\n",
    "\n",
    "Тогда\n",
    "\n",
    "$$\n",
    "w' = \\arg\\min_w MSE(X'w', y) = \\arg\\min_w MSE(XPw', y)\n",
    "$$\n",
    "\n",
    "Подставляя найденный нами $ w' = P^{-1} w $ в задачу обучения $ w' $:\n",
    "\n",
    "$$\n",
    "w' = \\arg\\min_w MSE(XP P^{-1}w, y) = \\arg\\min_w MSE(XEw, y) = \\arg\\min_w MSE(Xw, y)\n",
    "$$\n",
    "\n",
    "Как мы видим, задача обучения для преобразованной и исходной матрицы одна и та же, что и требовалось доказать."
   ]
  },
  {
   "cell_type": "markdown",
   "metadata": {},
   "source": [
    "## Алгоритм преобразования"
   ]
  },
  {
   "cell_type": "markdown",
   "metadata": {},
   "source": [
    "Предложим алгоритм преобразования данных для решения задачи. Обоснуем, почему качество линейной регрессии не поменяется."
   ]
  },
  {
   "cell_type": "markdown",
   "metadata": {},
   "source": [
    "**Алгоритм**\n",
    "\n",
    "1) Отделим целевой признак от набора данных; сохраняем набор признаков в качестве матрицы nxm, где n - количество строк, а m - количество признаков;\n",
    "\n",
    "2) Генерируем случайную квадратную матрицу mxm, проверяем, чтобы она была обратима;\n",
    "\n",
    "3) Сохраним обратную матрицу случайной квадратной матрицы - для дешифровки в будущем;\n",
    "\n",
    "4) Перемножаем матрицу признаков на случайную квадратную матрицу, получаем зашифрованную матрицу признаков nxm."
   ]
  },
  {
   "cell_type": "markdown",
   "metadata": {},
   "source": [
    "**Обоснование**\n",
    "\n",
    "Поскольку выше мы уже изучили вопрос изменения предсказаний для признаков, умноженных на обратимую матрицу, можно утверждать, что предсказания остаются неизменными и качество линейной регрессии не меняется.\n",
    "\n",
    "Необходимо только позаботиться, чтобы преобразованная матрица признаков совпадала по своей форме с исходной - для этого необходимо сгенерировать именно квадратную обратимую матрицу mxm, где m - количество признаков исходной матрицы."
   ]
  },
  {
   "cell_type": "markdown",
   "metadata": {},
   "source": [
    "## Проверка алгоритма"
   ]
  },
  {
   "cell_type": "markdown",
   "metadata": {},
   "source": [
    "### Разбиение данных"
   ]
  },
  {
   "cell_type": "markdown",
   "metadata": {},
   "source": [
    "Разобьем набор данных на признаки и целевой признак и подготовим непреобразованные обучающие и тестовые наборы данных.\n",
    "\n",
    "Мы не создаём валидационную выборку, поскольку по условию задачи нам не нужно подбирать лучшую модель."
   ]
  },
  {
   "cell_type": "code",
   "execution_count": 13,
   "metadata": {},
   "outputs": [],
   "source": [
    "features = df.drop('insurance_payments', axis=1)\n",
    "target = df['insurance_payments']\n",
    "\n",
    "X_train, X_test, y_train, y_test = train_test_split(\n",
    "    features,\n",
    "    target,\n",
    "    train_size=0.8,\n",
    "    random_state=random_state)"
   ]
  },
  {
   "cell_type": "markdown",
   "metadata": {},
   "source": [
    "### Создание трансформера для преобразования данных"
   ]
  },
  {
   "cell_type": "markdown",
   "metadata": {},
   "source": [
    "Мы создадим отдельный класс трансформера для преобразования наших данных в пайплайнах.\n",
    "\n",
    "Для начала, напишем функцию для генерации случайной обратимой квадратной матрицы - для преобразования (мы не будем писать эту функцию внутри класса трансформера - поскольку, \"плоское лучше, чем вложенное\" по Дзену Пайтона)."
   ]
  },
  {
   "cell_type": "code",
   "execution_count": 14,
   "metadata": {},
   "outputs": [],
   "source": [
    "def transformation_matrix(m):\n",
    "    singular_matrix = True\n",
    "    while singular_matrix:\n",
    "        try:\n",
    "            P = np.random.randint(0,42, size=(m,m))\n",
    "            P_inv = np.linalg.inv(P)\n",
    "            break\n",
    "        except LinAlgError:\n",
    "            print('Найдена сингулярная матрица')\n",
    "    return P"
   ]
  },
  {
   "cell_type": "markdown",
   "metadata": {},
   "source": [
    "Теперь напишем класс трансформера и вложим в него созданную функцию для генерации матрицы для преобразования."
   ]
  },
  {
   "cell_type": "code",
   "execution_count": 15,
   "metadata": {},
   "outputs": [],
   "source": [
    "class MatrixTransformer(TransformerMixin, BaseEstimator):\n",
    "    \n",
    "    def __init__(self):\n",
    "        self.dim = None\n",
    "        self.P = None\n",
    "    \n",
    "    def fit(self, X, y):\n",
    "        self.dim = X.shape[1]\n",
    "        self.P = transformation_matrix(self.dim)\n",
    "        return self\n",
    "    \n",
    "    def transform(self, X):\n",
    "        X_P = X.copy()\n",
    "        X_P = np.array(X_P)\n",
    "        X_P = np.dot(X_P, self.P)\n",
    "        return X_P"
   ]
  },
  {
   "cell_type": "markdown",
   "metadata": {},
   "source": [
    "Отлично, всё готово для обучения моделей."
   ]
  },
  {
   "cell_type": "markdown",
   "metadata": {},
   "source": [
    "### Обучение моделей"
   ]
  },
  {
   "cell_type": "markdown",
   "metadata": {},
   "source": [
    "Создадим пайплайн из написанного нами трансформера и модели линейной регрессии и обучим его.\n",
    "\n",
    "Вычислим R2 на тестовом наборе данных."
   ]
  },
  {
   "cell_type": "code",
   "execution_count": 16,
   "metadata": {},
   "outputs": [],
   "source": [
    "pipe_crypto_lr = Pipeline([\n",
    "        ('transformer', MatrixTransformer()),\n",
    "        ('model', LinearRegression()),\n",
    "    ])\n",
    "\n",
    "\n",
    "pipe_crypto_lr.fit(X_train, y_train)\n",
    "\n",
    "predictions_P = pipe_crypto_lr.predict(X_test)\n",
    "\n",
    "R2_P = r2_score(y_test, predictions_P)"
   ]
  },
  {
   "cell_type": "code",
   "execution_count": 17,
   "metadata": {},
   "outputs": [
    {
     "data": {
      "text/plain": [
       "0.43926641677498723"
      ]
     },
     "execution_count": 17,
     "metadata": {},
     "output_type": "execute_result"
    }
   ],
   "source": [
    "R2_P"
   ]
  },
  {
   "cell_type": "markdown",
   "metadata": {},
   "source": [
    "Создадим модель линейной регрессии без трансформера и обучим её.\n",
    "\n",
    "Вычислим R2 на тестовом наборе данных."
   ]
  },
  {
   "cell_type": "code",
   "execution_count": 18,
   "metadata": {},
   "outputs": [],
   "source": [
    "lr = LinearRegression()\n",
    "\n",
    "lr.fit(X_train, y_train)\n",
    "\n",
    "predictions = lr.predict(X_test)\n",
    "\n",
    "R2 = r2_score(y_test, predictions)"
   ]
  },
  {
   "cell_type": "code",
   "execution_count": 19,
   "metadata": {},
   "outputs": [
    {
     "data": {
      "text/plain": [
       "0.43926641677498013"
      ]
     },
     "execution_count": 19,
     "metadata": {},
     "output_type": "execute_result"
    }
   ],
   "source": [
    "R2"
   ]
  },
  {
   "cell_type": "markdown",
   "metadata": {},
   "source": [
    "Как мы видим, R2 на преобразованных и исходных данных сходятся до 14 знаков после запятой.\n",
    "\n",
    "Полного равенства мы не добиваемся из-за ограничений вычислительных алгоритмов процессоров компьютера.\n",
    "\n",
    "Мы на практике подтвердили корректность нашего алгоритма для преобразования данных (защиты исходного набора для усложнения восстановления персональных данных)."
   ]
  },
  {
   "cell_type": "markdown",
   "metadata": {},
   "source": [
    "**Вывод:** завершив этап проверки алгоритма, мы\n",
    "- реализовали алгоритм преобразования данных;\n",
    "- разбили данные на исходные и преобразованные обучающие и тестовые выборки;\n",
    "- обучили модели линейной регрессии на исходных и преобразованных данных;\n",
    "- вычислили R2 для исходных и преобразованных тестовых выборок - **они сходятся до 14 знаков после запятой** (полного равенства добиться нельзя из-за ограничений компьютера) - **наш алгоритм корректен и выполняет свою задачу.**"
   ]
  },
  {
   "cell_type": "markdown",
   "metadata": {},
   "source": [
    "## Общий вывод"
   ]
  },
  {
   "cell_type": "markdown",
   "metadata": {},
   "source": [
    "Отвечая на главный вопрос проекта - нами разработан и проверен алгоритм преобразования данных для защиты исходной персональной информации; он заключается в генерации случайной обратимой квадратной матрицы и умножении исходной матрицы признаков на сгенерированную матрицу - для получения преобразованной матрицы признаков. Качество линейной регрессии при этом не меняется.\n",
    "\n",
    "В целом, в ходе выполнения проекта:\n",
    "- закончив этап подготовки данных, мы\n",
    "    - привели названия столбцов к английским - для удобства; \n",
    "    - не обнаружили пропусков;\n",
    "    - проверили данные на дубликаты, обнаружили и удалили их (153 строки из 5000);\n",
    "    - не обнаружили явных выбросов;\n",
    "    - проверили данные на мультиколлинеарность - её нет;\n",
    "    \n",
    "    \n",
    "- закончив этап умножения матриц, мы\n",
    "    - ответили на вопрос \"признаки умножают на обратимую матрицу, изменится ли качество линейной регрессии\" - нет, не изменится, обоснование приведено в данном разделе;\n",
    "    \n",
    "    \n",
    "- закончив этап алгоритма преобразования, мы\n",
    "    - разработали алгоритм преобразования данных:\n",
    "        1) Отделим целевой признак от набора данных; сохраняем набор признаков в качестве матрицы nxm, где n - количество строк, а m - количество признаков;\n",
    "\n",
    "        2) Генерируем случайную квадратную матрицу mxm, проверяем, чтобы она была обратима;\n",
    "\n",
    "        3) Сохраним обратную матрицу случайной квадратной матрицы - для дешифровки в будущем;\n",
    "\n",
    "        4) Перемножаем матрицу признаков на случайную квадратную матрицу, получаем зашифрованную матрицу признаков nxm.\n",
    "\n",
    "\n",
    "- закончив этап проверки алгоритма, мы\n",
    "    - реализовали алгоритм преобразования данных;\n",
    "    - разбили данные на исходные и преобразованные обучающие и тестовые выборки;\n",
    "    - обучили модели линейной регрессии на исходных и преобразованных данных;\n",
    "    - вычислили R2 для исходных и преобразованных тестовых выборок - **они сходятся до 14 знаков после запятой** (полного равенства добиться нельзя из-за ограничений компьютера) - **наш алгоритм корректен и выполняет свою задачу.**"
   ]
  }
 ],
 "metadata": {
  "ExecuteTimeLog": [
   {
    "duration": 4724,
    "start_time": "2023-03-15T09:01:53.004Z"
   },
   {
    "duration": 71,
    "start_time": "2023-03-15T09:04:35.074Z"
   },
   {
    "duration": 14,
    "start_time": "2023-03-15T09:05:07.823Z"
   },
   {
    "duration": 13,
    "start_time": "2023-03-15T09:06:11.238Z"
   },
   {
    "duration": 1655,
    "start_time": "2023-03-15T09:07:21.004Z"
   },
   {
    "duration": 1464,
    "start_time": "2023-03-15T09:07:38.044Z"
   },
   {
    "duration": 23,
    "start_time": "2023-03-15T09:09:44.319Z"
   },
   {
    "duration": 5,
    "start_time": "2023-03-15T09:20:44.975Z"
   },
   {
    "duration": 11,
    "start_time": "2023-03-15T09:20:53.523Z"
   },
   {
    "duration": 6,
    "start_time": "2023-03-15T09:24:44.011Z"
   },
   {
    "duration": 6,
    "start_time": "2023-03-15T09:25:58.654Z"
   },
   {
    "duration": 11,
    "start_time": "2023-03-15T09:26:45.761Z"
   },
   {
    "duration": 6,
    "start_time": "2023-03-15T09:30:51.846Z"
   },
   {
    "duration": 587,
    "start_time": "2023-03-15T09:35:49.331Z"
   },
   {
    "duration": 402,
    "start_time": "2023-03-15T09:36:06.615Z"
   },
   {
    "duration": 426,
    "start_time": "2023-03-15T09:37:47.827Z"
   },
   {
    "duration": 431,
    "start_time": "2023-03-15T09:39:20.133Z"
   },
   {
    "duration": 393,
    "start_time": "2023-03-15T09:39:29.227Z"
   },
   {
    "duration": 2448,
    "start_time": "2023-03-15T09:40:33.695Z"
   },
   {
    "duration": 2133,
    "start_time": "2023-03-15T12:45:31.456Z"
   },
   {
    "duration": 5,
    "start_time": "2023-03-15T13:07:09.813Z"
   },
   {
    "duration": 11,
    "start_time": "2023-03-15T13:07:47.048Z"
   },
   {
    "duration": 141,
    "start_time": "2023-03-15T13:07:57.310Z"
   },
   {
    "duration": 5,
    "start_time": "2023-03-15T13:09:07.155Z"
   },
   {
    "duration": 4,
    "start_time": "2023-03-15T13:09:14.509Z"
   },
   {
    "duration": 3,
    "start_time": "2023-03-15T13:09:26.526Z"
   },
   {
    "duration": 5,
    "start_time": "2023-03-15T13:09:44.547Z"
   },
   {
    "duration": 1573,
    "start_time": "2023-03-16T09:19:45.151Z"
   },
   {
    "duration": 101,
    "start_time": "2023-03-16T09:19:46.726Z"
   },
   {
    "duration": 14,
    "start_time": "2023-03-16T09:19:46.829Z"
   },
   {
    "duration": 12,
    "start_time": "2023-03-16T09:19:46.845Z"
   },
   {
    "duration": 1397,
    "start_time": "2023-03-16T09:19:46.860Z"
   },
   {
    "duration": 30,
    "start_time": "2023-03-16T09:19:48.259Z"
   },
   {
    "duration": 4,
    "start_time": "2023-03-16T09:19:48.291Z"
   },
   {
    "duration": 11,
    "start_time": "2023-03-16T09:19:48.297Z"
   },
   {
    "duration": 5,
    "start_time": "2023-03-16T09:19:48.310Z"
   },
   {
    "duration": 11,
    "start_time": "2023-03-16T09:19:48.317Z"
   },
   {
    "duration": 5,
    "start_time": "2023-03-16T09:19:48.330Z"
   },
   {
    "duration": 454,
    "start_time": "2023-03-16T09:19:48.337Z"
   },
   {
    "duration": 3,
    "start_time": "2023-03-16T09:19:48.793Z"
   },
   {
    "duration": 7,
    "start_time": "2023-03-16T09:29:05.350Z"
   },
   {
    "duration": 4,
    "start_time": "2023-03-16T09:31:11.659Z"
   },
   {
    "duration": 6,
    "start_time": "2023-03-16T09:31:18.776Z"
   },
   {
    "duration": 8,
    "start_time": "2023-03-16T09:34:35.285Z"
   },
   {
    "duration": 14,
    "start_time": "2023-03-16T09:40:40.129Z"
   },
   {
    "duration": 5,
    "start_time": "2023-03-16T09:40:44.648Z"
   },
   {
    "duration": 11,
    "start_time": "2023-03-16T09:41:16.453Z"
   },
   {
    "duration": 9,
    "start_time": "2023-03-16T09:41:19.982Z"
   },
   {
    "duration": 5,
    "start_time": "2023-03-16T09:43:12.629Z"
   },
   {
    "duration": 8,
    "start_time": "2023-03-16T09:44:39.750Z"
   },
   {
    "duration": 5,
    "start_time": "2023-03-16T09:44:40.147Z"
   },
   {
    "duration": 9,
    "start_time": "2023-03-16T09:44:41.529Z"
   },
   {
    "duration": 5,
    "start_time": "2023-03-16T09:44:41.928Z"
   },
   {
    "duration": 4,
    "start_time": "2023-03-16T09:44:54.027Z"
   },
   {
    "duration": 1463,
    "start_time": "2023-03-16T10:22:46.977Z"
   },
   {
    "duration": 30,
    "start_time": "2023-03-16T10:22:48.442Z"
   },
   {
    "duration": 14,
    "start_time": "2023-03-16T10:22:48.474Z"
   },
   {
    "duration": 13,
    "start_time": "2023-03-16T10:22:48.489Z"
   },
   {
    "duration": 1558,
    "start_time": "2023-03-16T10:22:48.505Z"
   },
   {
    "duration": 36,
    "start_time": "2023-03-16T10:22:50.065Z"
   },
   {
    "duration": 4,
    "start_time": "2023-03-16T10:22:50.103Z"
   },
   {
    "duration": 27,
    "start_time": "2023-03-16T10:22:50.109Z"
   },
   {
    "duration": 11,
    "start_time": "2023-03-16T10:22:50.138Z"
   },
   {
    "duration": 24,
    "start_time": "2023-03-16T10:22:50.151Z"
   },
   {
    "duration": 20,
    "start_time": "2023-03-16T10:22:50.177Z"
   },
   {
    "duration": 366,
    "start_time": "2023-03-16T10:22:50.199Z"
   },
   {
    "duration": 7,
    "start_time": "2023-03-16T10:22:50.567Z"
   },
   {
    "duration": 16,
    "start_time": "2023-03-16T10:22:50.576Z"
   },
   {
    "duration": 29,
    "start_time": "2023-03-16T10:22:50.594Z"
   },
   {
    "duration": 62,
    "start_time": "2023-03-16T10:22:50.626Z"
   },
   {
    "duration": 10,
    "start_time": "2023-03-16T10:22:50.690Z"
   },
   {
    "duration": 87,
    "start_time": "2023-03-16T10:22:50.702Z"
   },
   {
    "duration": 12,
    "start_time": "2023-03-16T10:22:50.790Z"
   },
   {
    "duration": 9,
    "start_time": "2023-03-16T10:22:50.803Z"
   },
   {
    "duration": 2543,
    "start_time": "2023-03-17T04:59:50.068Z"
   },
   {
    "duration": 77,
    "start_time": "2023-03-17T04:59:52.613Z"
   },
   {
    "duration": 13,
    "start_time": "2023-03-17T04:59:52.692Z"
   },
   {
    "duration": 12,
    "start_time": "2023-03-17T04:59:52.707Z"
   },
   {
    "duration": 1379,
    "start_time": "2023-03-17T04:59:52.721Z"
   },
   {
    "duration": 24,
    "start_time": "2023-03-17T04:59:54.102Z"
   },
   {
    "duration": 14,
    "start_time": "2023-03-17T04:59:54.128Z"
   },
   {
    "duration": 22,
    "start_time": "2023-03-17T04:59:54.144Z"
   },
   {
    "duration": 27,
    "start_time": "2023-03-17T04:59:54.168Z"
   },
   {
    "duration": 23,
    "start_time": "2023-03-17T04:59:54.197Z"
   },
   {
    "duration": 8,
    "start_time": "2023-03-17T04:59:54.221Z"
   },
   {
    "duration": 473,
    "start_time": "2023-03-17T04:59:54.231Z"
   },
   {
    "duration": 8,
    "start_time": "2023-03-17T04:59:54.706Z"
   },
   {
    "duration": 10,
    "start_time": "2023-03-17T04:59:54.716Z"
   },
   {
    "duration": 8,
    "start_time": "2023-03-17T04:59:54.728Z"
   },
   {
    "duration": 47,
    "start_time": "2023-03-17T04:59:54.738Z"
   },
   {
    "duration": 10,
    "start_time": "2023-03-17T04:59:54.787Z"
   },
   {
    "duration": 85,
    "start_time": "2023-03-17T04:59:54.799Z"
   },
   {
    "duration": 16,
    "start_time": "2023-03-17T04:59:54.887Z"
   },
   {
    "duration": 14,
    "start_time": "2023-03-17T04:59:54.906Z"
   },
   {
    "duration": 1650,
    "start_time": "2023-03-17T09:44:57.871Z"
   },
   {
    "duration": 7,
    "start_time": "2023-03-17T09:48:44.242Z"
   },
   {
    "duration": 113,
    "start_time": "2023-03-17T09:48:44.251Z"
   },
   {
    "duration": 12,
    "start_time": "2023-03-17T09:48:44.366Z"
   },
   {
    "duration": 11,
    "start_time": "2023-03-17T09:48:44.380Z"
   },
   {
    "duration": 1452,
    "start_time": "2023-03-17T09:48:44.393Z"
   },
   {
    "duration": 25,
    "start_time": "2023-03-17T09:48:45.847Z"
   },
   {
    "duration": 5,
    "start_time": "2023-03-17T09:48:45.874Z"
   },
   {
    "duration": 12,
    "start_time": "2023-03-17T09:48:45.880Z"
   },
   {
    "duration": 6,
    "start_time": "2023-03-17T09:48:45.893Z"
   },
   {
    "duration": 17,
    "start_time": "2023-03-17T09:48:45.923Z"
   },
   {
    "duration": 13,
    "start_time": "2023-03-17T09:48:45.943Z"
   },
   {
    "duration": 435,
    "start_time": "2023-03-17T09:48:45.958Z"
   },
   {
    "duration": 6,
    "start_time": "2023-03-17T09:48:46.395Z"
   },
   {
    "duration": 4,
    "start_time": "2023-03-17T09:48:46.405Z"
   },
   {
    "duration": 5,
    "start_time": "2023-03-17T09:48:46.423Z"
   },
   {
    "duration": 6,
    "start_time": "2023-03-17T09:48:46.430Z"
   },
   {
    "duration": 3,
    "start_time": "2023-03-17T09:57:38.915Z"
   },
   {
    "duration": 4,
    "start_time": "2023-03-17T09:58:16.338Z"
   },
   {
    "duration": 4,
    "start_time": "2023-03-17T10:01:59.877Z"
   },
   {
    "duration": 9,
    "start_time": "2023-03-17T10:04:13.090Z"
   },
   {
    "duration": 4,
    "start_time": "2023-03-17T10:04:18.624Z"
   },
   {
    "duration": 1370,
    "start_time": "2023-03-17T10:32:56.384Z"
   },
   {
    "duration": 29,
    "start_time": "2023-03-17T10:32:57.758Z"
   },
   {
    "duration": 13,
    "start_time": "2023-03-17T10:32:57.788Z"
   },
   {
    "duration": 11,
    "start_time": "2023-03-17T10:32:57.802Z"
   },
   {
    "duration": 1425,
    "start_time": "2023-03-17T10:32:57.815Z"
   },
   {
    "duration": 25,
    "start_time": "2023-03-17T10:32:59.241Z"
   },
   {
    "duration": 4,
    "start_time": "2023-03-17T10:32:59.267Z"
   },
   {
    "duration": 12,
    "start_time": "2023-03-17T10:32:59.273Z"
   },
   {
    "duration": 7,
    "start_time": "2023-03-17T10:32:59.286Z"
   },
   {
    "duration": 37,
    "start_time": "2023-03-17T10:32:59.295Z"
   },
   {
    "duration": 6,
    "start_time": "2023-03-17T10:32:59.333Z"
   },
   {
    "duration": 377,
    "start_time": "2023-03-17T10:32:59.340Z"
   },
   {
    "duration": 7,
    "start_time": "2023-03-17T10:32:59.719Z"
   },
   {
    "duration": 11,
    "start_time": "2023-03-17T10:32:59.728Z"
   },
   {
    "duration": 6,
    "start_time": "2023-03-17T10:32:59.741Z"
   },
   {
    "duration": 8,
    "start_time": "2023-03-17T10:32:59.748Z"
   },
   {
    "duration": 7,
    "start_time": "2023-03-17T10:32:59.758Z"
   },
   {
    "duration": 10,
    "start_time": "2023-03-17T10:32:59.824Z"
   },
   {
    "duration": 88,
    "start_time": "2023-03-17T10:32:59.836Z"
   },
   {
    "duration": 2495,
    "start_time": "2023-03-17T12:53:30.352Z"
   },
   {
    "duration": 32,
    "start_time": "2023-03-17T12:53:32.848Z"
   },
   {
    "duration": 18,
    "start_time": "2023-03-17T12:53:32.881Z"
   },
   {
    "duration": 25,
    "start_time": "2023-03-17T12:53:32.902Z"
   },
   {
    "duration": 1515,
    "start_time": "2023-03-17T12:53:32.929Z"
   },
   {
    "duration": 24,
    "start_time": "2023-03-17T12:53:34.446Z"
   },
   {
    "duration": 10,
    "start_time": "2023-03-17T12:53:34.481Z"
   },
   {
    "duration": 16,
    "start_time": "2023-03-17T12:53:34.495Z"
   },
   {
    "duration": 13,
    "start_time": "2023-03-17T12:53:34.512Z"
   },
   {
    "duration": 12,
    "start_time": "2023-03-17T12:53:34.527Z"
   },
   {
    "duration": 6,
    "start_time": "2023-03-17T12:53:34.541Z"
   },
   {
    "duration": 486,
    "start_time": "2023-03-17T12:53:34.548Z"
   },
   {
    "duration": 10,
    "start_time": "2023-03-17T12:53:35.036Z"
   },
   {
    "duration": 25,
    "start_time": "2023-03-17T12:53:35.047Z"
   },
   {
    "duration": 30,
    "start_time": "2023-03-17T12:53:35.076Z"
   },
   {
    "duration": 15,
    "start_time": "2023-03-17T12:53:35.108Z"
   },
   {
    "duration": 63,
    "start_time": "2023-03-17T12:53:35.125Z"
   },
   {
    "duration": 113,
    "start_time": "2023-03-17T12:53:35.194Z"
   },
   {
    "duration": 4,
    "start_time": "2023-03-17T12:53:35.310Z"
   }
  ],
  "kernelspec": {
   "display_name": "Python 3 (ipykernel)",
   "language": "python",
   "name": "python3"
  },
  "language_info": {
   "codemirror_mode": {
    "name": "ipython",
    "version": 3
   },
   "file_extension": ".py",
   "mimetype": "text/x-python",
   "name": "python",
   "nbconvert_exporter": "python",
   "pygments_lexer": "ipython3",
   "version": "3.9.12"
  },
  "toc": {
   "base_numbering": 1,
   "nav_menu": {},
   "number_sections": true,
   "sideBar": true,
   "skip_h1_title": true,
   "title_cell": "Содержание",
   "title_sidebar": "Contents",
   "toc_cell": true,
   "toc_position": {
    "height": "calc(100% - 180px)",
    "left": "10px",
    "top": "150px",
    "width": "352.585px"
   },
   "toc_section_display": true,
   "toc_window_display": true
  }
 },
 "nbformat": 4,
 "nbformat_minor": 2
}

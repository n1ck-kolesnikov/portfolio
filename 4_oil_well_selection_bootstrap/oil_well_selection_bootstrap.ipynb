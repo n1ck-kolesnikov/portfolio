{
 "cells": [
  {
   "cell_type": "markdown",
   "metadata": {},
   "source": [
    "# Выбор локации для скважины"
   ]
  },
  {
   "cell_type": "markdown",
   "metadata": {},
   "source": [
    "Мы работаем в добывающей компании «ГлавРосГосНефть». Нужно решить, где бурить новую скважину.\n",
    "\n",
    "Нам предоставлены пробы нефти в трёх регионах: в каждом 10 000 месторождений, где измерили качество нефти и объём её запасов. Построим модель машинного обучения, которая поможет определить регион, где добыча принесёт наибольшую прибыль. Проанализируем возможную прибыль и риски техникой *Bootstrap.*\n",
    "\n",
    "Шаги для выбора локации:\n",
    "\n",
    "- В избранном регионе ищут месторождения, для каждого определяют значения признаков;\n",
    "- Строят модель и оценивают объём запасов;\n",
    "- Выбирают месторождения с самым высокими оценками значений. Количество месторождений зависит от бюджета компании и стоимости разработки одной скважины;\n",
    "- Прибыль равна суммарной прибыли отобранных месторождений."
   ]
  },
  {
   "cell_type": "code",
   "execution_count": 1,
   "metadata": {},
   "outputs": [],
   "source": [
    "# Импортируем основные библиотеки для работы\n",
    "import warnings\n",
    "import pandas as pd\n",
    "import matplotlib.pyplot as plt\n",
    "import numpy as np\n",
    "import seaborn as sns\n",
    "\n",
    "# Импортируем модели, метрики, вспомогательные инструменты и функции\n",
    "from sklearn.linear_model import Ridge\n",
    "from sklearn.dummy import DummyRegressor\n",
    "from sklearn.metrics import mean_squared_error\n",
    "from sklearn.model_selection import train_test_split, GridSearchCV, cross_val_score\n",
    "from sklearn.preprocessing import StandardScaler\n",
    "from sklearn.compose import ColumnTransformer\n",
    "from sklearn.pipeline import Pipeline\n",
    "from scipy import stats as st\n",
    "\n",
    "warnings.filterwarnings(\"ignore\", category=FutureWarning) \n",
    "pd.set_option('display.max_columns', None)\n",
    "\n",
    "state=np.random.RandomState(42)\n",
    "random_state = 42\n",
    "train_size = 0.75"
   ]
  },
  {
   "cell_type": "markdown",
   "metadata": {},
   "source": [
    "## Загрузка и подготовка данных"
   ]
  },
  {
   "cell_type": "markdown",
   "metadata": {},
   "source": [
    "### Загрузка и первичный анализ"
   ]
  },
  {
   "cell_type": "markdown",
   "metadata": {},
   "source": [
    "Откроем файлы и сохраним их в переменных `geo_0`, `geo_1`, `geo_2`, получим основную информацию с помощью метода .info() и построим гистограммы для всех признаков датасета."
   ]
  },
  {
   "cell_type": "code",
   "execution_count": 2,
   "metadata": {},
   "outputs": [],
   "source": [
    "geo_0 = pd.read_csv('/datasets/geo_data_0.csv')\n",
    "geo_1 = pd.read_csv('/datasets/geo_data_1.csv')\n",
    "geo_2 = pd.read_csv('/datasets/geo_data_2.csv')"
   ]
  },
  {
   "cell_type": "code",
   "execution_count": 3,
   "metadata": {},
   "outputs": [
    {
     "name": "stdout",
     "output_type": "stream",
     "text": [
      "<class 'pandas.core.frame.DataFrame'>\n",
      "RangeIndex: 100000 entries, 0 to 99999\n",
      "Data columns (total 5 columns):\n",
      " #   Column   Non-Null Count   Dtype  \n",
      "---  ------   --------------   -----  \n",
      " 0   id       100000 non-null  object \n",
      " 1   f0       100000 non-null  float64\n",
      " 2   f1       100000 non-null  float64\n",
      " 3   f2       100000 non-null  float64\n",
      " 4   product  100000 non-null  float64\n",
      "dtypes: float64(4), object(1)\n",
      "memory usage: 3.8+ MB\n"
     ]
    }
   ],
   "source": [
    "geo_0.info()"
   ]
  },
  {
   "cell_type": "code",
   "execution_count": 4,
   "metadata": {},
   "outputs": [
    {
     "name": "stdout",
     "output_type": "stream",
     "text": [
      "<class 'pandas.core.frame.DataFrame'>\n",
      "RangeIndex: 100000 entries, 0 to 99999\n",
      "Data columns (total 5 columns):\n",
      " #   Column   Non-Null Count   Dtype  \n",
      "---  ------   --------------   -----  \n",
      " 0   id       100000 non-null  object \n",
      " 1   f0       100000 non-null  float64\n",
      " 2   f1       100000 non-null  float64\n",
      " 3   f2       100000 non-null  float64\n",
      " 4   product  100000 non-null  float64\n",
      "dtypes: float64(4), object(1)\n",
      "memory usage: 3.8+ MB\n"
     ]
    }
   ],
   "source": [
    "geo_1.info()"
   ]
  },
  {
   "cell_type": "code",
   "execution_count": 5,
   "metadata": {
    "scrolled": true
   },
   "outputs": [
    {
     "name": "stdout",
     "output_type": "stream",
     "text": [
      "<class 'pandas.core.frame.DataFrame'>\n",
      "RangeIndex: 100000 entries, 0 to 99999\n",
      "Data columns (total 5 columns):\n",
      " #   Column   Non-Null Count   Dtype  \n",
      "---  ------   --------------   -----  \n",
      " 0   id       100000 non-null  object \n",
      " 1   f0       100000 non-null  float64\n",
      " 2   f1       100000 non-null  float64\n",
      " 3   f2       100000 non-null  float64\n",
      " 4   product  100000 non-null  float64\n",
      "dtypes: float64(4), object(1)\n",
      "memory usage: 3.8+ MB\n"
     ]
    }
   ],
   "source": [
    "geo_2.info()"
   ]
  },
  {
   "cell_type": "markdown",
   "metadata": {},
   "source": [
    "Описание признаков в наборах данных:\n",
    "- id — уникальный идентификатор скважины;\n",
    "- f0, f1, f2 — три признака точек (неважно, что они означают, но сами признаки значимы);\n",
    "- product — объём запасов в скважине (тыс. баррелей)."
   ]
  },
  {
   "cell_type": "code",
   "execution_count": 6,
   "metadata": {},
   "outputs": [
    {
     "data": {
      "text/html": [
       "<div>\n",
       "<style scoped>\n",
       "    .dataframe tbody tr th:only-of-type {\n",
       "        vertical-align: middle;\n",
       "    }\n",
       "\n",
       "    .dataframe tbody tr th {\n",
       "        vertical-align: top;\n",
       "    }\n",
       "\n",
       "    .dataframe thead th {\n",
       "        text-align: right;\n",
       "    }\n",
       "</style>\n",
       "<table border=\"1\" class=\"dataframe\">\n",
       "  <thead>\n",
       "    <tr style=\"text-align: right;\">\n",
       "      <th></th>\n",
       "      <th>id</th>\n",
       "      <th>f0</th>\n",
       "      <th>f1</th>\n",
       "      <th>f2</th>\n",
       "      <th>product</th>\n",
       "    </tr>\n",
       "  </thead>\n",
       "  <tbody>\n",
       "    <tr>\n",
       "      <th>0</th>\n",
       "      <td>txEyH</td>\n",
       "      <td>0.705745</td>\n",
       "      <td>-0.497823</td>\n",
       "      <td>1.221170</td>\n",
       "      <td>105.280062</td>\n",
       "    </tr>\n",
       "    <tr>\n",
       "      <th>1</th>\n",
       "      <td>2acmU</td>\n",
       "      <td>1.334711</td>\n",
       "      <td>-0.340164</td>\n",
       "      <td>4.365080</td>\n",
       "      <td>73.037750</td>\n",
       "    </tr>\n",
       "    <tr>\n",
       "      <th>2</th>\n",
       "      <td>409Wp</td>\n",
       "      <td>1.022732</td>\n",
       "      <td>0.151990</td>\n",
       "      <td>1.419926</td>\n",
       "      <td>85.265647</td>\n",
       "    </tr>\n",
       "    <tr>\n",
       "      <th>3</th>\n",
       "      <td>iJLyR</td>\n",
       "      <td>-0.032172</td>\n",
       "      <td>0.139033</td>\n",
       "      <td>2.978566</td>\n",
       "      <td>168.620776</td>\n",
       "    </tr>\n",
       "    <tr>\n",
       "      <th>4</th>\n",
       "      <td>Xdl7t</td>\n",
       "      <td>1.988431</td>\n",
       "      <td>0.155413</td>\n",
       "      <td>4.751769</td>\n",
       "      <td>154.036647</td>\n",
       "    </tr>\n",
       "  </tbody>\n",
       "</table>\n",
       "</div>"
      ],
      "text/plain": [
       "      id        f0        f1        f2     product\n",
       "0  txEyH  0.705745 -0.497823  1.221170  105.280062\n",
       "1  2acmU  1.334711 -0.340164  4.365080   73.037750\n",
       "2  409Wp  1.022732  0.151990  1.419926   85.265647\n",
       "3  iJLyR -0.032172  0.139033  2.978566  168.620776\n",
       "4  Xdl7t  1.988431  0.155413  4.751769  154.036647"
      ]
     },
     "execution_count": 6,
     "metadata": {},
     "output_type": "execute_result"
    }
   ],
   "source": [
    "geo_0.head()"
   ]
  },
  {
   "cell_type": "code",
   "execution_count": 7,
   "metadata": {},
   "outputs": [
    {
     "data": {
      "text/html": [
       "<div>\n",
       "<style scoped>\n",
       "    .dataframe tbody tr th:only-of-type {\n",
       "        vertical-align: middle;\n",
       "    }\n",
       "\n",
       "    .dataframe tbody tr th {\n",
       "        vertical-align: top;\n",
       "    }\n",
       "\n",
       "    .dataframe thead th {\n",
       "        text-align: right;\n",
       "    }\n",
       "</style>\n",
       "<table border=\"1\" class=\"dataframe\">\n",
       "  <thead>\n",
       "    <tr style=\"text-align: right;\">\n",
       "      <th></th>\n",
       "      <th>id</th>\n",
       "      <th>f0</th>\n",
       "      <th>f1</th>\n",
       "      <th>f2</th>\n",
       "      <th>product</th>\n",
       "    </tr>\n",
       "  </thead>\n",
       "  <tbody>\n",
       "    <tr>\n",
       "      <th>0</th>\n",
       "      <td>kBEdx</td>\n",
       "      <td>-15.001348</td>\n",
       "      <td>-8.276000</td>\n",
       "      <td>-0.005876</td>\n",
       "      <td>3.179103</td>\n",
       "    </tr>\n",
       "    <tr>\n",
       "      <th>1</th>\n",
       "      <td>62mP7</td>\n",
       "      <td>14.272088</td>\n",
       "      <td>-3.475083</td>\n",
       "      <td>0.999183</td>\n",
       "      <td>26.953261</td>\n",
       "    </tr>\n",
       "    <tr>\n",
       "      <th>2</th>\n",
       "      <td>vyE1P</td>\n",
       "      <td>6.263187</td>\n",
       "      <td>-5.948386</td>\n",
       "      <td>5.001160</td>\n",
       "      <td>134.766305</td>\n",
       "    </tr>\n",
       "    <tr>\n",
       "      <th>3</th>\n",
       "      <td>KcrkZ</td>\n",
       "      <td>-13.081196</td>\n",
       "      <td>-11.506057</td>\n",
       "      <td>4.999415</td>\n",
       "      <td>137.945408</td>\n",
       "    </tr>\n",
       "    <tr>\n",
       "      <th>4</th>\n",
       "      <td>AHL4O</td>\n",
       "      <td>12.702195</td>\n",
       "      <td>-8.147433</td>\n",
       "      <td>5.004363</td>\n",
       "      <td>134.766305</td>\n",
       "    </tr>\n",
       "  </tbody>\n",
       "</table>\n",
       "</div>"
      ],
      "text/plain": [
       "      id         f0         f1        f2     product\n",
       "0  kBEdx -15.001348  -8.276000 -0.005876    3.179103\n",
       "1  62mP7  14.272088  -3.475083  0.999183   26.953261\n",
       "2  vyE1P   6.263187  -5.948386  5.001160  134.766305\n",
       "3  KcrkZ -13.081196 -11.506057  4.999415  137.945408\n",
       "4  AHL4O  12.702195  -8.147433  5.004363  134.766305"
      ]
     },
     "execution_count": 7,
     "metadata": {},
     "output_type": "execute_result"
    }
   ],
   "source": [
    "geo_1.head()"
   ]
  },
  {
   "cell_type": "code",
   "execution_count": 8,
   "metadata": {},
   "outputs": [
    {
     "data": {
      "text/html": [
       "<div>\n",
       "<style scoped>\n",
       "    .dataframe tbody tr th:only-of-type {\n",
       "        vertical-align: middle;\n",
       "    }\n",
       "\n",
       "    .dataframe tbody tr th {\n",
       "        vertical-align: top;\n",
       "    }\n",
       "\n",
       "    .dataframe thead th {\n",
       "        text-align: right;\n",
       "    }\n",
       "</style>\n",
       "<table border=\"1\" class=\"dataframe\">\n",
       "  <thead>\n",
       "    <tr style=\"text-align: right;\">\n",
       "      <th></th>\n",
       "      <th>id</th>\n",
       "      <th>f0</th>\n",
       "      <th>f1</th>\n",
       "      <th>f2</th>\n",
       "      <th>product</th>\n",
       "    </tr>\n",
       "  </thead>\n",
       "  <tbody>\n",
       "    <tr>\n",
       "      <th>0</th>\n",
       "      <td>fwXo0</td>\n",
       "      <td>-1.146987</td>\n",
       "      <td>0.963328</td>\n",
       "      <td>-0.828965</td>\n",
       "      <td>27.758673</td>\n",
       "    </tr>\n",
       "    <tr>\n",
       "      <th>1</th>\n",
       "      <td>WJtFt</td>\n",
       "      <td>0.262778</td>\n",
       "      <td>0.269839</td>\n",
       "      <td>-2.530187</td>\n",
       "      <td>56.069697</td>\n",
       "    </tr>\n",
       "    <tr>\n",
       "      <th>2</th>\n",
       "      <td>ovLUW</td>\n",
       "      <td>0.194587</td>\n",
       "      <td>0.289035</td>\n",
       "      <td>-5.586433</td>\n",
       "      <td>62.871910</td>\n",
       "    </tr>\n",
       "    <tr>\n",
       "      <th>3</th>\n",
       "      <td>q6cA6</td>\n",
       "      <td>2.236060</td>\n",
       "      <td>-0.553760</td>\n",
       "      <td>0.930038</td>\n",
       "      <td>114.572842</td>\n",
       "    </tr>\n",
       "    <tr>\n",
       "      <th>4</th>\n",
       "      <td>WPMUX</td>\n",
       "      <td>-0.515993</td>\n",
       "      <td>1.716266</td>\n",
       "      <td>5.899011</td>\n",
       "      <td>149.600746</td>\n",
       "    </tr>\n",
       "  </tbody>\n",
       "</table>\n",
       "</div>"
      ],
      "text/plain": [
       "      id        f0        f1        f2     product\n",
       "0  fwXo0 -1.146987  0.963328 -0.828965   27.758673\n",
       "1  WJtFt  0.262778  0.269839 -2.530187   56.069697\n",
       "2  ovLUW  0.194587  0.289035 -5.586433   62.871910\n",
       "3  q6cA6  2.236060 -0.553760  0.930038  114.572842\n",
       "4  WPMUX -0.515993  1.716266  5.899011  149.600746"
      ]
     },
     "execution_count": 8,
     "metadata": {},
     "output_type": "execute_result"
    }
   ],
   "source": [
    "geo_2.head()"
   ]
  },
  {
   "cell_type": "code",
   "execution_count": 9,
   "metadata": {},
   "outputs": [
    {
     "data": {
      "image/png": "[encoded data removed]",
      "text/plain": [
       "<Figure size 1440x1080 with 4 Axes>"
      ]
     },
     "metadata": {
      "needs_background": "light"
     },
     "output_type": "display_data"
    }
   ],
   "source": [
    "geo_0.hist(figsize=(20, 15), bins=100)\n",
    "plt.show()"
   ]
  },
  {
   "cell_type": "code",
   "execution_count": 10,
   "metadata": {},
   "outputs": [
    {
     "data": {
      "image/png": "[encoded data removed]",
      "text/plain": [
       "<Figure size 1440x1080 with 4 Axes>"
      ]
     },
     "metadata": {
      "needs_background": "light"
     },
     "output_type": "display_data"
    }
   ],
   "source": [
    "geo_1.hist(figsize=(20, 15), bins=100)\n",
    "plt.show()"
   ]
  },
  {
   "cell_type": "code",
   "execution_count": 11,
   "metadata": {},
   "outputs": [
    {
     "data": {
      "image/png": "[encoded data removed]",
      "text/plain": [
       "<Figure size 1440x1080 with 4 Axes>"
      ]
     },
     "metadata": {
      "needs_background": "light"
     },
     "output_type": "display_data"
    }
   ],
   "source": [
    "geo_2.hist(figsize=(20, 15), bins=100)\n",
    "plt.show()"
   ]
  },
  {
   "cell_type": "code",
   "execution_count": 12,
   "metadata": {},
   "outputs": [
    {
     "data": {
      "text/html": [
       "<div>\n",
       "<style scoped>\n",
       "    .dataframe tbody tr th:only-of-type {\n",
       "        vertical-align: middle;\n",
       "    }\n",
       "\n",
       "    .dataframe tbody tr th {\n",
       "        vertical-align: top;\n",
       "    }\n",
       "\n",
       "    .dataframe thead th {\n",
       "        text-align: right;\n",
       "    }\n",
       "</style>\n",
       "<table border=\"1\" class=\"dataframe\">\n",
       "  <thead>\n",
       "    <tr style=\"text-align: right;\">\n",
       "      <th></th>\n",
       "      <th>f0</th>\n",
       "      <th>f1</th>\n",
       "      <th>f2</th>\n",
       "      <th>product</th>\n",
       "    </tr>\n",
       "  </thead>\n",
       "  <tbody>\n",
       "    <tr>\n",
       "      <th>count</th>\n",
       "      <td>100000.000000</td>\n",
       "      <td>100000.000000</td>\n",
       "      <td>100000.000000</td>\n",
       "      <td>100000.000000</td>\n",
       "    </tr>\n",
       "    <tr>\n",
       "      <th>mean</th>\n",
       "      <td>0.500419</td>\n",
       "      <td>0.250143</td>\n",
       "      <td>2.502647</td>\n",
       "      <td>92.500000</td>\n",
       "    </tr>\n",
       "    <tr>\n",
       "      <th>std</th>\n",
       "      <td>0.871832</td>\n",
       "      <td>0.504433</td>\n",
       "      <td>3.248248</td>\n",
       "      <td>44.288691</td>\n",
       "    </tr>\n",
       "    <tr>\n",
       "      <th>min</th>\n",
       "      <td>-1.408605</td>\n",
       "      <td>-0.848218</td>\n",
       "      <td>-12.088328</td>\n",
       "      <td>0.000000</td>\n",
       "    </tr>\n",
       "    <tr>\n",
       "      <th>25%</th>\n",
       "      <td>-0.072580</td>\n",
       "      <td>-0.200881</td>\n",
       "      <td>0.287748</td>\n",
       "      <td>56.497507</td>\n",
       "    </tr>\n",
       "    <tr>\n",
       "      <th>50%</th>\n",
       "      <td>0.502360</td>\n",
       "      <td>0.250252</td>\n",
       "      <td>2.515969</td>\n",
       "      <td>91.849972</td>\n",
       "    </tr>\n",
       "    <tr>\n",
       "      <th>75%</th>\n",
       "      <td>1.073581</td>\n",
       "      <td>0.700646</td>\n",
       "      <td>4.715088</td>\n",
       "      <td>128.564089</td>\n",
       "    </tr>\n",
       "    <tr>\n",
       "      <th>max</th>\n",
       "      <td>2.362331</td>\n",
       "      <td>1.343769</td>\n",
       "      <td>16.003790</td>\n",
       "      <td>185.364347</td>\n",
       "    </tr>\n",
       "  </tbody>\n",
       "</table>\n",
       "</div>"
      ],
      "text/plain": [
       "                  f0             f1             f2        product\n",
       "count  100000.000000  100000.000000  100000.000000  100000.000000\n",
       "mean        0.500419       0.250143       2.502647      92.500000\n",
       "std         0.871832       0.504433       3.248248      44.288691\n",
       "min        -1.408605      -0.848218     -12.088328       0.000000\n",
       "25%        -0.072580      -0.200881       0.287748      56.497507\n",
       "50%         0.502360       0.250252       2.515969      91.849972\n",
       "75%         1.073581       0.700646       4.715088     128.564089\n",
       "max         2.362331       1.343769      16.003790     185.364347"
      ]
     },
     "execution_count": 12,
     "metadata": {},
     "output_type": "execute_result"
    }
   ],
   "source": [
    "geo_0.describe()"
   ]
  },
  {
   "cell_type": "code",
   "execution_count": 13,
   "metadata": {},
   "outputs": [
    {
     "data": {
      "text/html": [
       "<div>\n",
       "<style scoped>\n",
       "    .dataframe tbody tr th:only-of-type {\n",
       "        vertical-align: middle;\n",
       "    }\n",
       "\n",
       "    .dataframe tbody tr th {\n",
       "        vertical-align: top;\n",
       "    }\n",
       "\n",
       "    .dataframe thead th {\n",
       "        text-align: right;\n",
       "    }\n",
       "</style>\n",
       "<table border=\"1\" class=\"dataframe\">\n",
       "  <thead>\n",
       "    <tr style=\"text-align: right;\">\n",
       "      <th></th>\n",
       "      <th>f0</th>\n",
       "      <th>f1</th>\n",
       "      <th>f2</th>\n",
       "      <th>product</th>\n",
       "    </tr>\n",
       "  </thead>\n",
       "  <tbody>\n",
       "    <tr>\n",
       "      <th>count</th>\n",
       "      <td>100000.000000</td>\n",
       "      <td>100000.000000</td>\n",
       "      <td>100000.000000</td>\n",
       "      <td>100000.000000</td>\n",
       "    </tr>\n",
       "    <tr>\n",
       "      <th>mean</th>\n",
       "      <td>1.141296</td>\n",
       "      <td>-4.796579</td>\n",
       "      <td>2.494541</td>\n",
       "      <td>68.825000</td>\n",
       "    </tr>\n",
       "    <tr>\n",
       "      <th>std</th>\n",
       "      <td>8.965932</td>\n",
       "      <td>5.119872</td>\n",
       "      <td>1.703572</td>\n",
       "      <td>45.944423</td>\n",
       "    </tr>\n",
       "    <tr>\n",
       "      <th>min</th>\n",
       "      <td>-31.609576</td>\n",
       "      <td>-26.358598</td>\n",
       "      <td>-0.018144</td>\n",
       "      <td>0.000000</td>\n",
       "    </tr>\n",
       "    <tr>\n",
       "      <th>25%</th>\n",
       "      <td>-6.298551</td>\n",
       "      <td>-8.267985</td>\n",
       "      <td>1.000021</td>\n",
       "      <td>26.953261</td>\n",
       "    </tr>\n",
       "    <tr>\n",
       "      <th>50%</th>\n",
       "      <td>1.153055</td>\n",
       "      <td>-4.813172</td>\n",
       "      <td>2.011479</td>\n",
       "      <td>57.085625</td>\n",
       "    </tr>\n",
       "    <tr>\n",
       "      <th>75%</th>\n",
       "      <td>8.621015</td>\n",
       "      <td>-1.332816</td>\n",
       "      <td>3.999904</td>\n",
       "      <td>107.813044</td>\n",
       "    </tr>\n",
       "    <tr>\n",
       "      <th>max</th>\n",
       "      <td>29.421755</td>\n",
       "      <td>18.734063</td>\n",
       "      <td>5.019721</td>\n",
       "      <td>137.945408</td>\n",
       "    </tr>\n",
       "  </tbody>\n",
       "</table>\n",
       "</div>"
      ],
      "text/plain": [
       "                  f0             f1             f2        product\n",
       "count  100000.000000  100000.000000  100000.000000  100000.000000\n",
       "mean        1.141296      -4.796579       2.494541      68.825000\n",
       "std         8.965932       5.119872       1.703572      45.944423\n",
       "min       -31.609576     -26.358598      -0.018144       0.000000\n",
       "25%        -6.298551      -8.267985       1.000021      26.953261\n",
       "50%         1.153055      -4.813172       2.011479      57.085625\n",
       "75%         8.621015      -1.332816       3.999904     107.813044\n",
       "max        29.421755      18.734063       5.019721     137.945408"
      ]
     },
     "execution_count": 13,
     "metadata": {},
     "output_type": "execute_result"
    }
   ],
   "source": [
    "geo_1.describe()"
   ]
  },
  {
   "cell_type": "code",
   "execution_count": 14,
   "metadata": {},
   "outputs": [
    {
     "data": {
      "text/html": [
       "<div>\n",
       "<style scoped>\n",
       "    .dataframe tbody tr th:only-of-type {\n",
       "        vertical-align: middle;\n",
       "    }\n",
       "\n",
       "    .dataframe tbody tr th {\n",
       "        vertical-align: top;\n",
       "    }\n",
       "\n",
       "    .dataframe thead th {\n",
       "        text-align: right;\n",
       "    }\n",
       "</style>\n",
       "<table border=\"1\" class=\"dataframe\">\n",
       "  <thead>\n",
       "    <tr style=\"text-align: right;\">\n",
       "      <th></th>\n",
       "      <th>f0</th>\n",
       "      <th>f1</th>\n",
       "      <th>f2</th>\n",
       "      <th>product</th>\n",
       "    </tr>\n",
       "  </thead>\n",
       "  <tbody>\n",
       "    <tr>\n",
       "      <th>count</th>\n",
       "      <td>100000.000000</td>\n",
       "      <td>100000.000000</td>\n",
       "      <td>100000.000000</td>\n",
       "      <td>100000.000000</td>\n",
       "    </tr>\n",
       "    <tr>\n",
       "      <th>mean</th>\n",
       "      <td>0.002023</td>\n",
       "      <td>-0.002081</td>\n",
       "      <td>2.495128</td>\n",
       "      <td>95.000000</td>\n",
       "    </tr>\n",
       "    <tr>\n",
       "      <th>std</th>\n",
       "      <td>1.732045</td>\n",
       "      <td>1.730417</td>\n",
       "      <td>3.473445</td>\n",
       "      <td>44.749921</td>\n",
       "    </tr>\n",
       "    <tr>\n",
       "      <th>min</th>\n",
       "      <td>-8.760004</td>\n",
       "      <td>-7.084020</td>\n",
       "      <td>-11.970335</td>\n",
       "      <td>0.000000</td>\n",
       "    </tr>\n",
       "    <tr>\n",
       "      <th>25%</th>\n",
       "      <td>-1.162288</td>\n",
       "      <td>-1.174820</td>\n",
       "      <td>0.130359</td>\n",
       "      <td>59.450441</td>\n",
       "    </tr>\n",
       "    <tr>\n",
       "      <th>50%</th>\n",
       "      <td>0.009424</td>\n",
       "      <td>-0.009482</td>\n",
       "      <td>2.484236</td>\n",
       "      <td>94.925613</td>\n",
       "    </tr>\n",
       "    <tr>\n",
       "      <th>75%</th>\n",
       "      <td>1.158535</td>\n",
       "      <td>1.163678</td>\n",
       "      <td>4.858794</td>\n",
       "      <td>130.595027</td>\n",
       "    </tr>\n",
       "    <tr>\n",
       "      <th>max</th>\n",
       "      <td>7.238262</td>\n",
       "      <td>7.844801</td>\n",
       "      <td>16.739402</td>\n",
       "      <td>190.029838</td>\n",
       "    </tr>\n",
       "  </tbody>\n",
       "</table>\n",
       "</div>"
      ],
      "text/plain": [
       "                  f0             f1             f2        product\n",
       "count  100000.000000  100000.000000  100000.000000  100000.000000\n",
       "mean        0.002023      -0.002081       2.495128      95.000000\n",
       "std         1.732045       1.730417       3.473445      44.749921\n",
       "min        -8.760004      -7.084020     -11.970335       0.000000\n",
       "25%        -1.162288      -1.174820       0.130359      59.450441\n",
       "50%         0.009424      -0.009482       2.484236      94.925613\n",
       "75%         1.158535       1.163678       4.858794     130.595027\n",
       "max         7.238262       7.844801      16.739402     190.029838"
      ]
     },
     "execution_count": 14,
     "metadata": {},
     "output_type": "execute_result"
    }
   ],
   "source": [
    "geo_2.describe()"
   ]
  },
  {
   "cell_type": "markdown",
   "metadata": {},
   "source": [
    "---\n",
    "**Вывод:** изучив основную информацию о датасетах, можно утверждать, что\n",
    "- в датасетах есть признак, лишний для наших целей обучения моделей - \"id\"; \n",
    "- данные очищены - пропусков нет;\n",
    "- на всякий случай имеет смысл проверить данные на дубликаты;\n",
    "- признаки у датасетов имеют распределения без перекосов вправо/влево - очевидных выбросов нет;\n",
    "- необходимо проверить данные на мультиколлинеарность;\n",
    "- данные не стандартизированы - исправим это на этапе подготовки пайплайнов."
   ]
  },
  {
   "cell_type": "markdown",
   "metadata": {},
   "source": [
    "### Проверка на дубликаты"
   ]
  },
  {
   "cell_type": "markdown",
   "metadata": {},
   "source": [
    "Проверим данные на дубликаты по \"id\":"
   ]
  },
  {
   "cell_type": "code",
   "execution_count": 15,
   "metadata": {},
   "outputs": [
    {
     "data": {
      "text/html": [
       "<div>\n",
       "<style scoped>\n",
       "    .dataframe tbody tr th:only-of-type {\n",
       "        vertical-align: middle;\n",
       "    }\n",
       "\n",
       "    .dataframe tbody tr th {\n",
       "        vertical-align: top;\n",
       "    }\n",
       "\n",
       "    .dataframe thead th {\n",
       "        text-align: right;\n",
       "    }\n",
       "</style>\n",
       "<table border=\"1\" class=\"dataframe\">\n",
       "  <thead>\n",
       "    <tr style=\"text-align: right;\">\n",
       "      <th></th>\n",
       "      <th>id</th>\n",
       "      <th>f0</th>\n",
       "      <th>f1</th>\n",
       "      <th>f2</th>\n",
       "      <th>product</th>\n",
       "    </tr>\n",
       "  </thead>\n",
       "  <tbody>\n",
       "    <tr>\n",
       "      <th>7530</th>\n",
       "      <td>HZww2</td>\n",
       "      <td>1.061194</td>\n",
       "      <td>-0.373969</td>\n",
       "      <td>10.430210</td>\n",
       "      <td>158.828695</td>\n",
       "    </tr>\n",
       "    <tr>\n",
       "      <th>41724</th>\n",
       "      <td>bxg6G</td>\n",
       "      <td>-0.823752</td>\n",
       "      <td>0.546319</td>\n",
       "      <td>3.630479</td>\n",
       "      <td>93.007798</td>\n",
       "    </tr>\n",
       "    <tr>\n",
       "      <th>51970</th>\n",
       "      <td>A5aEY</td>\n",
       "      <td>-0.180335</td>\n",
       "      <td>0.935548</td>\n",
       "      <td>-2.094773</td>\n",
       "      <td>33.020205</td>\n",
       "    </tr>\n",
       "    <tr>\n",
       "      <th>63593</th>\n",
       "      <td>QcMuo</td>\n",
       "      <td>0.635635</td>\n",
       "      <td>-0.473422</td>\n",
       "      <td>0.862670</td>\n",
       "      <td>64.578675</td>\n",
       "    </tr>\n",
       "    <tr>\n",
       "      <th>66136</th>\n",
       "      <td>74z30</td>\n",
       "      <td>1.084962</td>\n",
       "      <td>-0.312358</td>\n",
       "      <td>6.990771</td>\n",
       "      <td>127.643327</td>\n",
       "    </tr>\n",
       "  </tbody>\n",
       "</table>\n",
       "</div>"
      ],
      "text/plain": [
       "          id        f0        f1         f2     product\n",
       "7530   HZww2  1.061194 -0.373969  10.430210  158.828695\n",
       "41724  bxg6G -0.823752  0.546319   3.630479   93.007798\n",
       "51970  A5aEY -0.180335  0.935548  -2.094773   33.020205\n",
       "63593  QcMuo  0.635635 -0.473422   0.862670   64.578675\n",
       "66136  74z30  1.084962 -0.312358   6.990771  127.643327"
      ]
     },
     "execution_count": 15,
     "metadata": {},
     "output_type": "execute_result"
    }
   ],
   "source": [
    "geo_0[geo_0.duplicated(subset=['id'])].head()"
   ]
  },
  {
   "cell_type": "code",
   "execution_count": 16,
   "metadata": {},
   "outputs": [
    {
     "data": {
      "text/html": [
       "<div>\n",
       "<style scoped>\n",
       "    .dataframe tbody tr th:only-of-type {\n",
       "        vertical-align: middle;\n",
       "    }\n",
       "\n",
       "    .dataframe tbody tr th {\n",
       "        vertical-align: top;\n",
       "    }\n",
       "\n",
       "    .dataframe thead th {\n",
       "        text-align: right;\n",
       "    }\n",
       "</style>\n",
       "<table border=\"1\" class=\"dataframe\">\n",
       "  <thead>\n",
       "    <tr style=\"text-align: right;\">\n",
       "      <th></th>\n",
       "      <th>id</th>\n",
       "      <th>f0</th>\n",
       "      <th>f1</th>\n",
       "      <th>f2</th>\n",
       "      <th>product</th>\n",
       "    </tr>\n",
       "  </thead>\n",
       "  <tbody>\n",
       "    <tr>\n",
       "      <th>41906</th>\n",
       "      <td>LHZR0</td>\n",
       "      <td>-8.989672</td>\n",
       "      <td>-4.286607</td>\n",
       "      <td>2.009139</td>\n",
       "      <td>57.085625</td>\n",
       "    </tr>\n",
       "    <tr>\n",
       "      <th>82178</th>\n",
       "      <td>bfPNe</td>\n",
       "      <td>-6.202799</td>\n",
       "      <td>-4.820045</td>\n",
       "      <td>2.995107</td>\n",
       "      <td>84.038886</td>\n",
       "    </tr>\n",
       "    <tr>\n",
       "      <th>82873</th>\n",
       "      <td>wt4Uk</td>\n",
       "      <td>10.259972</td>\n",
       "      <td>-9.376355</td>\n",
       "      <td>4.994297</td>\n",
       "      <td>134.766305</td>\n",
       "    </tr>\n",
       "    <tr>\n",
       "      <th>84461</th>\n",
       "      <td>5ltQ6</td>\n",
       "      <td>18.213839</td>\n",
       "      <td>2.191999</td>\n",
       "      <td>3.993869</td>\n",
       "      <td>107.813044</td>\n",
       "    </tr>\n",
       "  </tbody>\n",
       "</table>\n",
       "</div>"
      ],
      "text/plain": [
       "          id         f0        f1        f2     product\n",
       "41906  LHZR0  -8.989672 -4.286607  2.009139   57.085625\n",
       "82178  bfPNe  -6.202799 -4.820045  2.995107   84.038886\n",
       "82873  wt4Uk  10.259972 -9.376355  4.994297  134.766305\n",
       "84461  5ltQ6  18.213839  2.191999  3.993869  107.813044"
      ]
     },
     "execution_count": 16,
     "metadata": {},
     "output_type": "execute_result"
    }
   ],
   "source": [
    "geo_1[geo_1.duplicated(subset=['id'])].head()"
   ]
  },
  {
   "cell_type": "code",
   "execution_count": 17,
   "metadata": {},
   "outputs": [
    {
     "data": {
      "text/html": [
       "<div>\n",
       "<style scoped>\n",
       "    .dataframe tbody tr th:only-of-type {\n",
       "        vertical-align: middle;\n",
       "    }\n",
       "\n",
       "    .dataframe tbody tr th {\n",
       "        vertical-align: top;\n",
       "    }\n",
       "\n",
       "    .dataframe thead th {\n",
       "        text-align: right;\n",
       "    }\n",
       "</style>\n",
       "<table border=\"1\" class=\"dataframe\">\n",
       "  <thead>\n",
       "    <tr style=\"text-align: right;\">\n",
       "      <th></th>\n",
       "      <th>id</th>\n",
       "      <th>f0</th>\n",
       "      <th>f1</th>\n",
       "      <th>f2</th>\n",
       "      <th>product</th>\n",
       "    </tr>\n",
       "  </thead>\n",
       "  <tbody>\n",
       "    <tr>\n",
       "      <th>43233</th>\n",
       "      <td>xCHr8</td>\n",
       "      <td>-0.847066</td>\n",
       "      <td>2.101796</td>\n",
       "      <td>5.597130</td>\n",
       "      <td>184.388641</td>\n",
       "    </tr>\n",
       "    <tr>\n",
       "      <th>49564</th>\n",
       "      <td>VF7Jo</td>\n",
       "      <td>-0.883115</td>\n",
       "      <td>0.560537</td>\n",
       "      <td>0.723601</td>\n",
       "      <td>136.233420</td>\n",
       "    </tr>\n",
       "    <tr>\n",
       "      <th>55967</th>\n",
       "      <td>KUPhW</td>\n",
       "      <td>1.211150</td>\n",
       "      <td>3.176408</td>\n",
       "      <td>5.543540</td>\n",
       "      <td>132.831802</td>\n",
       "    </tr>\n",
       "    <tr>\n",
       "      <th>95090</th>\n",
       "      <td>Vcm5J</td>\n",
       "      <td>2.587702</td>\n",
       "      <td>1.986875</td>\n",
       "      <td>2.482245</td>\n",
       "      <td>92.327572</td>\n",
       "    </tr>\n",
       "  </tbody>\n",
       "</table>\n",
       "</div>"
      ],
      "text/plain": [
       "          id        f0        f1        f2     product\n",
       "43233  xCHr8 -0.847066  2.101796  5.597130  184.388641\n",
       "49564  VF7Jo -0.883115  0.560537  0.723601  136.233420\n",
       "55967  KUPhW  1.211150  3.176408  5.543540  132.831802\n",
       "95090  Vcm5J  2.587702  1.986875  2.482245   92.327572"
      ]
     },
     "execution_count": 17,
     "metadata": {},
     "output_type": "execute_result"
    }
   ],
   "source": [
    "geo_2[geo_2.duplicated(subset=['id'])].head()"
   ]
  },
  {
   "cell_type": "markdown",
   "metadata": {},
   "source": [
    "Мы нашли дубликаты. Избавимся от более поздних дублирующихся строк."
   ]
  },
  {
   "cell_type": "code",
   "execution_count": 18,
   "metadata": {},
   "outputs": [
    {
     "name": "stdout",
     "output_type": "stream",
     "text": [
      "Размер датасета geo_0 до удаления дубликатов: (100000, 5)\n",
      "Размер датасета geo_0 после удаления дубликатов: (99990, 5)\n"
     ]
    }
   ],
   "source": [
    "print('Размер датасета geo_0 до удаления дубликатов:', geo_0.shape)\n",
    "geo_0 = geo_0.drop_duplicates(subset=['id'], keep='first')\n",
    "print('Размер датасета geo_0 после удаления дубликатов:', geo_0.shape)"
   ]
  },
  {
   "cell_type": "code",
   "execution_count": 19,
   "metadata": {},
   "outputs": [
    {
     "name": "stdout",
     "output_type": "stream",
     "text": [
      "Размер датасета geo_1 до удаления дубликатов: (100000, 5)\n",
      "Размер датасета geo_1 после удаления дубликатов: (99996, 5)\n"
     ]
    }
   ],
   "source": [
    "print('Размер датасета geo_1 до удаления дубликатов:', geo_1.shape)\n",
    "geo_1 = geo_1.drop_duplicates(subset=['id'], keep='first')\n",
    "print('Размер датасета geo_1 после удаления дубликатов:', geo_1.shape)"
   ]
  },
  {
   "cell_type": "code",
   "execution_count": 20,
   "metadata": {},
   "outputs": [
    {
     "name": "stdout",
     "output_type": "stream",
     "text": [
      "Размер датасета geo_2 до удаления дубликатов: (100000, 5)\n",
      "Размер датасета geo_2 после удаления дубликатов: (99996, 5)\n"
     ]
    }
   ],
   "source": [
    "print('Размер датасета geo_2 до удаления дубликатов:', geo_2.shape)\n",
    "geo_2 = geo_2.drop_duplicates(subset=['id'], keep='first')\n",
    "print('Размер датасета geo_2 после удаления дубликатов:', geo_2.shape)"
   ]
  },
  {
   "cell_type": "markdown",
   "metadata": {},
   "source": [
    "### Очистка от лишних признаков"
   ]
  },
  {
   "cell_type": "markdown",
   "metadata": {},
   "source": [
    "В датасетах у нас есть признак \"id\", который не несёт за собой никакой прогнозирующей силы, а служит только для идентификации скважин. При обучении моделей он помешает нам, удалим его."
   ]
  },
  {
   "cell_type": "code",
   "execution_count": 21,
   "metadata": {},
   "outputs": [
    {
     "name": "stdout",
     "output_type": "stream",
     "text": [
      "<class 'pandas.core.frame.DataFrame'>\n",
      "Int64Index: 99990 entries, 0 to 99999\n",
      "Data columns (total 4 columns):\n",
      " #   Column   Non-Null Count  Dtype  \n",
      "---  ------   --------------  -----  \n",
      " 0   f0       99990 non-null  float64\n",
      " 1   f1       99990 non-null  float64\n",
      " 2   f2       99990 non-null  float64\n",
      " 3   product  99990 non-null  float64\n",
      "dtypes: float64(4)\n",
      "memory usage: 3.8 MB\n"
     ]
    }
   ],
   "source": [
    "geo_0 = geo_0.drop(columns=['id'])\n",
    "geo_0.info()"
   ]
  },
  {
   "cell_type": "code",
   "execution_count": 22,
   "metadata": {},
   "outputs": [
    {
     "name": "stdout",
     "output_type": "stream",
     "text": [
      "<class 'pandas.core.frame.DataFrame'>\n",
      "Int64Index: 99996 entries, 0 to 99999\n",
      "Data columns (total 4 columns):\n",
      " #   Column   Non-Null Count  Dtype  \n",
      "---  ------   --------------  -----  \n",
      " 0   f0       99996 non-null  float64\n",
      " 1   f1       99996 non-null  float64\n",
      " 2   f2       99996 non-null  float64\n",
      " 3   product  99996 non-null  float64\n",
      "dtypes: float64(4)\n",
      "memory usage: 3.8 MB\n"
     ]
    }
   ],
   "source": [
    "geo_1 = geo_1.drop(columns=['id'])\n",
    "geo_1.info()"
   ]
  },
  {
   "cell_type": "code",
   "execution_count": 23,
   "metadata": {},
   "outputs": [
    {
     "name": "stdout",
     "output_type": "stream",
     "text": [
      "<class 'pandas.core.frame.DataFrame'>\n",
      "Int64Index: 99996 entries, 0 to 99999\n",
      "Data columns (total 4 columns):\n",
      " #   Column   Non-Null Count  Dtype  \n",
      "---  ------   --------------  -----  \n",
      " 0   f0       99996 non-null  float64\n",
      " 1   f1       99996 non-null  float64\n",
      " 2   f2       99996 non-null  float64\n",
      " 3   product  99996 non-null  float64\n",
      "dtypes: float64(4)\n",
      "memory usage: 3.8 MB\n"
     ]
    }
   ],
   "source": [
    "geo_2 = geo_2.drop(columns=['id'])\n",
    "geo_2.info()"
   ]
  },
  {
   "cell_type": "markdown",
   "metadata": {},
   "source": [
    "Проверим, появились ли у нас после удаления id полностью дублирующиеся строки:"
   ]
  },
  {
   "cell_type": "code",
   "execution_count": 24,
   "metadata": {},
   "outputs": [
    {
     "data": {
      "text/plain": [
       "0"
      ]
     },
     "execution_count": 24,
     "metadata": {},
     "output_type": "execute_result"
    }
   ],
   "source": [
    "geo_0.duplicated().sum()"
   ]
  },
  {
   "cell_type": "code",
   "execution_count": 25,
   "metadata": {},
   "outputs": [
    {
     "data": {
      "text/plain": [
       "0"
      ]
     },
     "execution_count": 25,
     "metadata": {},
     "output_type": "execute_result"
    }
   ],
   "source": [
    "geo_1.duplicated().sum()"
   ]
  },
  {
   "cell_type": "code",
   "execution_count": 26,
   "metadata": {
    "scrolled": true
   },
   "outputs": [
    {
     "data": {
      "text/plain": [
       "0"
      ]
     },
     "execution_count": 26,
     "metadata": {},
     "output_type": "execute_result"
    }
   ],
   "source": [
    "geo_2.duplicated().sum()"
   ]
  },
  {
   "cell_type": "markdown",
   "metadata": {},
   "source": [
    "Дубликатов нет."
   ]
  },
  {
   "cell_type": "markdown",
   "metadata": {},
   "source": [
    "### Проверка на мультиколлинеарность"
   ]
  },
  {
   "cell_type": "markdown",
   "metadata": {},
   "source": [
    "Проверим корреляцию признаков у датасетов."
   ]
  },
  {
   "cell_type": "code",
   "execution_count": 27,
   "metadata": {},
   "outputs": [
    {
     "data": {
      "image/png": "[encoded data removed]",
      "text/plain": [
       "<Figure size 1080x720 with 2 Axes>"
      ]
     },
     "metadata": {},
     "output_type": "display_data"
    }
   ],
   "source": [
    "sns.set(rc={'figure.figsize':(15,10)})\n",
    "sns.heatmap(geo_0.corr(), annot=True)\n",
    "plt.show()"
   ]
  },
  {
   "cell_type": "code",
   "execution_count": 28,
   "metadata": {},
   "outputs": [
    {
     "data": {
      "image/png": "[encoded data removed]",
      "text/plain": [
       "<Figure size 1080x720 with 2 Axes>"
      ]
     },
     "metadata": {},
     "output_type": "display_data"
    }
   ],
   "source": [
    "sns.set(rc={'figure.figsize':(15,10)})\n",
    "sns.heatmap(geo_1.corr(), annot=True)\n",
    "plt.show()"
   ]
  },
  {
   "cell_type": "code",
   "execution_count": 29,
   "metadata": {},
   "outputs": [
    {
     "data": {
      "image/png": "[encoded data removed]",
      "text/plain": [
       "<Figure size 1080x720 with 2 Axes>"
      ]
     },
     "metadata": {},
     "output_type": "display_data"
    }
   ],
   "source": [
    "sns.set(rc={'figure.figsize':(15,10)})\n",
    "sns.heatmap(geo_2.corr(), annot=True)\n",
    "plt.show()"
   ]
  },
  {
   "cell_type": "markdown",
   "metadata": {},
   "source": [
    "Признаки \"f0\", \"f1\", \"f2\" если и коррелируют друг с другом, то совсем слабо. Представленные коэффициенты корреляции указывают на отстутствие проблемы мультиколлинеарности в данных."
   ]
  },
  {
   "cell_type": "markdown",
   "metadata": {},
   "source": [
    "---\n",
    "**Вывод:** завершив этап загрузки и подготовки данных мы\n",
    "- удалили в датасетах признак, лишний для наших целей обучения моделей - \"id\"; \n",
    "- не обнаружили пропусков в данных;\n",
    "- проверили данные на дубликаты, обнаружили и удалили их;\n",
    "- не обнаружили очевидных выбросов;\n",
    "- проверили данные на мультиколлинеарность - её нет;\n",
    "- отложили стандартизацию данных на этап подготовки пайплайнов."
   ]
  },
  {
   "cell_type": "markdown",
   "metadata": {},
   "source": [
    "## Обучение и проверка модели"
   ]
  },
  {
   "cell_type": "markdown",
   "metadata": {},
   "source": [
    "### Разбиение данных на выборки"
   ]
  },
  {
   "cell_type": "markdown",
   "metadata": {},
   "source": [
    "Разобьем наши данные на обучающие и валидационные выборки в соотношении 75%:25%. Для удобства напишем функцию."
   ]
  },
  {
   "cell_type": "code",
   "execution_count": 30,
   "metadata": {},
   "outputs": [],
   "source": [
    "def geo_split(geo_data):\n",
    "    features = geo_data.drop('product', axis=1)\n",
    "    target = geo_data['product']\n",
    "\n",
    "    X_train, X_test, y_train, y_test = train_test_split(\n",
    "                                            features,\n",
    "                                            target,\n",
    "                                            train_size=train_size,\n",
    "                                            random_state=random_state)\n",
    "    \n",
    "    return X_train, X_test, y_train, y_test"
   ]
  },
  {
   "cell_type": "code",
   "execution_count": 31,
   "metadata": {},
   "outputs": [],
   "source": [
    "X_train_0, X_valid_0, y_train_0, y_valid_0 = geo_split(geo_0)\n",
    "X_train_1, X_valid_1, y_train_1, y_valid_1 = geo_split(geo_1)\n",
    "X_train_2, X_valid_2, y_train_2, y_valid_2 = geo_split(geo_2)"
   ]
  },
  {
   "cell_type": "markdown",
   "metadata": {},
   "source": [
    "### Подготовка preprocessing-шага для pipeline'а"
   ]
  },
  {
   "cell_type": "markdown",
   "metadata": {},
   "source": [
    "Подготовим preprocessing-шаг для наших pipeline'ов.\n",
    "\n",
    "В preprocessing-шаге мы будем стандартизировать числовые признаки f0, f1, f2\n",
    "\n",
    "В последующих pipeline'ах мы будем постоянно использовать этот шаг."
   ]
  },
  {
   "cell_type": "code",
   "execution_count": 32,
   "metadata": {},
   "outputs": [],
   "source": [
    "numeric_features = ['f0', 'f1', 'f2'] # числовые признаки\n",
    "numeric_transformer = Pipeline( # трансформер для числовых признаков\n",
    "    steps=[\n",
    "        ('scaler', StandardScaler())\n",
    "    ]\n",
    ")\n",
    "\n",
    "preprocessor = ColumnTransformer( # препроцессор, комбинированный из наших трансформеров\n",
    "    transformers=[\n",
    "        ('num', numeric_transformer, numeric_features)\n",
    "    ]\n",
    ")"
   ]
  },
  {
   "cell_type": "markdown",
   "metadata": {},
   "source": [
    "### Обучение моделей - подбор гиперпараметров"
   ]
  },
  {
   "cell_type": "markdown",
   "metadata": {},
   "source": [
    "В качестве модели будем использовать линейную регрессию с l2-регуляризацией - по условиям задания. Подбирать гиперпараметры будем с помощью GridSearchCV с механизмом кросс-валидации. \n",
    "\n",
    "Гиперпараметры для исследования:\n",
    " - алгоритм оптимизации ('svd', 'cholesky', 'lsqr', 'sparse_cg', 'sag', 'saga');\n",
    " - сила l2-регуляризации - альфа.\n",
    " \n",
    "В качестве скоринга будем использовать RMSE.\n",
    " \n",
    " Для нашего удобства напишем функцию для обучения модели:"
   ]
  },
  {
   "cell_type": "code",
   "execution_count": 33,
   "metadata": {},
   "outputs": [],
   "source": [
    "def ridge_grid_model(X_train, y_train):\n",
    "\n",
    "    lr_pipe = Pipeline(steps=[ # Подготовим пайплайн для нашей модели\n",
    "            ('preprocessor', preprocessor),\n",
    "            ('model', Ridge())\n",
    "    ])\n",
    "\n",
    "    parameter_space = { # Пространство параметров, по которому будет искать лучшее решение GridSearchCV\n",
    "        'model__alpha'       : [1,5,10,25,50],\n",
    "        'model__solver'  : ['svd', 'cholesky', 'lsqr', 'sparse_cg', 'sag', 'saga'],\n",
    "        'model__random_state' : [random_state]\n",
    "    }\n",
    "\n",
    "    # В качестве скоринга мы используем отрицательное RMSE\n",
    "    lr_grid = GridSearchCV(lr_pipe, parameter_space, scoring='neg_root_mean_squared_error', cv=10)\n",
    "\n",
    "    lr_grid.fit(X_train, y_train)\n",
    "\n",
    "    best_lr = lr_grid.best_estimator_ # Лучшая модель - для просмотра лучших гиперпараметров\n",
    "    best_rmse_train = lr_grid.best_score_ # Лучшее значение RMSE\n",
    "    \n",
    "    return lr_grid, best_lr, best_rmse_train"
   ]
  },
  {
   "cell_type": "markdown",
   "metadata": {},
   "source": [
    "---\n",
    "Обучим модель ridge-регрессии на наборе данных **geo_0**:"
   ]
  },
  {
   "cell_type": "code",
   "execution_count": 34,
   "metadata": {},
   "outputs": [
    {
     "name": "stdout",
     "output_type": "stream",
     "text": [
      "CPU times: user 25.9 s, sys: 33.7 s, total: 59.6 s\n",
      "Wall time: 59.8 s\n"
     ]
    }
   ],
   "source": [
    "%%time\n",
    "\n",
    "lr_grid_0, best_lr_0, best_rmse_train_0 = ridge_grid_model(X_train_0, y_train_0)"
   ]
  },
  {
   "cell_type": "code",
   "execution_count": 35,
   "metadata": {},
   "outputs": [
    {
     "name": "stdout",
     "output_type": "stream",
     "text": [
      "Для набора данных geo_0:\n",
      "    - лучшая модель ridge-регрессии показала RMSE: -37.69613304558657.\n",
      "    - гиперпараметры:\n"
     ]
    },
    {
     "data": {
      "text/plain": [
       "Pipeline(steps=[('preprocessor',\n",
       "                 ColumnTransformer(transformers=[('num',\n",
       "                                                  Pipeline(steps=[('scaler',\n",
       "                                                                   StandardScaler())]),\n",
       "                                                  ['f0', 'f1', 'f2'])])),\n",
       "                ('model', Ridge(alpha=10, random_state=42, solver='saga'))])"
      ]
     },
     "execution_count": 35,
     "metadata": {},
     "output_type": "execute_result"
    }
   ],
   "source": [
    "print(f'Для набора данных geo_0:')\n",
    "print(f'    - лучшая модель ridge-регрессии показала RMSE: {best_rmse_train_0}.')\n",
    "print(f'    - гиперпараметры:')\n",
    "best_lr_0"
   ]
  },
  {
   "cell_type": "markdown",
   "metadata": {},
   "source": [
    "---\n",
    "Обучим модель ridge-регрессии на наборе данных **geo_1**:"
   ]
  },
  {
   "cell_type": "code",
   "execution_count": 36,
   "metadata": {},
   "outputs": [
    {
     "name": "stdout",
     "output_type": "stream",
     "text": [
      "CPU times: user 21.5 s, sys: 32.3 s, total: 53.8 s\n",
      "Wall time: 53.8 s\n"
     ]
    }
   ],
   "source": [
    "%%time\n",
    "\n",
    "lr_grid_1, best_lr_1, best_rmse_train_1 = ridge_grid_model(X_train_1, y_train_1)"
   ]
  },
  {
   "cell_type": "code",
   "execution_count": 37,
   "metadata": {},
   "outputs": [
    {
     "name": "stdout",
     "output_type": "stream",
     "text": [
      "Для набора данных geo_1:\n",
      "    - лучшая модель ridge-регрессии показала RMSE: -0.8895939771727501.\n",
      "    - гиперпараметры:\n"
     ]
    },
    {
     "data": {
      "text/plain": [
       "Pipeline(steps=[('preprocessor',\n",
       "                 ColumnTransformer(transformers=[('num',\n",
       "                                                  Pipeline(steps=[('scaler',\n",
       "                                                                   StandardScaler())]),\n",
       "                                                  ['f0', 'f1', 'f2'])])),\n",
       "                ('model', Ridge(alpha=1, random_state=42, solver='svd'))])"
      ]
     },
     "execution_count": 37,
     "metadata": {},
     "output_type": "execute_result"
    }
   ],
   "source": [
    "print(f'Для набора данных geo_1:')\n",
    "print(f'    - лучшая модель ridge-регрессии показала RMSE: {best_rmse_train_1}.')\n",
    "print(f'    - гиперпараметры:')\n",
    "best_lr_1"
   ]
  },
  {
   "cell_type": "markdown",
   "metadata": {},
   "source": [
    "---\n",
    "Обучим модель ridge-регрессии на наборе данных **geo_2**:"
   ]
  },
  {
   "cell_type": "code",
   "execution_count": 38,
   "metadata": {},
   "outputs": [
    {
     "name": "stdout",
     "output_type": "stream",
     "text": [
      "CPU times: user 27 s, sys: 32 s, total: 59.1 s\n",
      "Wall time: 1min\n"
     ]
    }
   ],
   "source": [
    "%%time\n",
    "\n",
    "lr_grid_2, best_lr_2, best_rmse_train_2 = ridge_grid_model(X_train_2, y_train_2)"
   ]
  },
  {
   "cell_type": "code",
   "execution_count": 39,
   "metadata": {},
   "outputs": [
    {
     "name": "stdout",
     "output_type": "stream",
     "text": [
      "Для набора данных geo_2:\n",
      "    - лучшая модель ridge-регрессии показала RMSE: -40.048086869178825.\n",
      "    - гиперпараметры:\n"
     ]
    },
    {
     "data": {
      "text/plain": [
       "Pipeline(steps=[('preprocessor',\n",
       "                 ColumnTransformer(transformers=[('num',\n",
       "                                                  Pipeline(steps=[('scaler',\n",
       "                                                                   StandardScaler())]),\n",
       "                                                  ['f0', 'f1', 'f2'])])),\n",
       "                ('model', Ridge(alpha=25, random_state=42, solver='sag'))])"
      ]
     },
     "execution_count": 39,
     "metadata": {},
     "output_type": "execute_result"
    }
   ],
   "source": [
    "print(f'Для набора данных geo_2:')\n",
    "print(f'    - лучшая модель ridge-регрессии показала RMSE: {best_rmse_train_2}.')\n",
    "print(f'    - гиперпараметры:')\n",
    "best_lr_2"
   ]
  },
  {
   "cell_type": "markdown",
   "metadata": {},
   "source": [
    "### Проверка моделей на валидационной выборке"
   ]
  },
  {
   "cell_type": "markdown",
   "metadata": {},
   "source": [
    "Проверим наши модели на валидационной выборке.\n",
    "\n",
    "Для удобства напишем функцию, в которой у нас будет:\n",
    "\n",
    "- создание предсказаний валидационной выборки;\n",
    "- скоринг RMSE на валидационной выборке;\n",
    "- подсчёт среднего запаса предсказанного сырья."
   ]
  },
  {
   "cell_type": "code",
   "execution_count": 40,
   "metadata": {},
   "outputs": [],
   "source": [
    "def valid_rmse_scoring(model, X_valid, y_valid):\n",
    "    \n",
    "    predictions = model.predict(X_valid)\n",
    "    \n",
    "    best_rmse_valid = mean_squared_error(y_valid, predictions, squared=False)\n",
    "    \n",
    "    mean_pred_product = predictions.mean()\n",
    "    \n",
    "    return best_rmse_valid, predictions, mean_pred_product"
   ]
  },
  {
   "cell_type": "markdown",
   "metadata": {},
   "source": [
    "---"
   ]
  },
  {
   "cell_type": "code",
   "execution_count": 41,
   "metadata": {},
   "outputs": [],
   "source": [
    "best_rmse_valid_0, predictions_0, mean_pred_product_0 = valid_rmse_scoring(lr_grid_0, X_valid_0, y_valid_0)"
   ]
  },
  {
   "cell_type": "code",
   "execution_count": 42,
   "metadata": {},
   "outputs": [
    {
     "name": "stdout",
     "output_type": "stream",
     "text": [
      "Для набора данных geo_0 на валидационной выборке:\n",
      "    - лучшая модель ridge-регрессии показала RMSE: 37.68504824970936.\n",
      "    - средний запас предсказанного сырья: 92.60974279806825 тыс. баррелей\n",
      "    - истинный средний запас сырья: 92.38876593595461 тыс. баррелей\n"
     ]
    }
   ],
   "source": [
    "print(f'Для набора данных geo_0 на валидационной выборке:')\n",
    "print(f'    - лучшая модель ridge-регрессии показала RMSE: {best_rmse_valid_0}.')\n",
    "print(f'    - средний запас предсказанного сырья: {mean_pred_product_0} тыс. баррелей')\n",
    "print(f'    - истинный средний запас сырья: {y_valid_0.mean()} тыс. баррелей')"
   ]
  },
  {
   "cell_type": "markdown",
   "metadata": {},
   "source": [
    "---"
   ]
  },
  {
   "cell_type": "code",
   "execution_count": 43,
   "metadata": {},
   "outputs": [],
   "source": [
    "best_rmse_valid_1, predictions_1, mean_pred_product_1 = valid_rmse_scoring(lr_grid_1, X_valid_1, y_valid_1)"
   ]
  },
  {
   "cell_type": "code",
   "execution_count": 44,
   "metadata": {},
   "outputs": [
    {
     "name": "stdout",
     "output_type": "stream",
     "text": [
      "Для набора данных geo_1 на валидационной выборке:\n",
      "    - лучшая модель ridge-регрессии показала RMSE: 0.8928310731323991.\n",
      "    - средний запас предсказанного сырья: 68.57703888177964 тыс. баррелей\n",
      "    - истинный средний запас сырья: 68.58361591061642 тыс. баррелей\n"
     ]
    }
   ],
   "source": [
    "print(f'Для набора данных geo_1 на валидационной выборке:')\n",
    "print(f'    - лучшая модель ridge-регрессии показала RMSE: {best_rmse_valid_1}.')\n",
    "print(f'    - средний запас предсказанного сырья: {mean_pred_product_1} тыс. баррелей')\n",
    "print(f'    - истинный средний запас сырья: {y_valid_1.mean()} тыс. баррелей')"
   ]
  },
  {
   "cell_type": "markdown",
   "metadata": {},
   "source": [
    "---"
   ]
  },
  {
   "cell_type": "code",
   "execution_count": 45,
   "metadata": {},
   "outputs": [],
   "source": [
    "best_rmse_valid_2, predictions_2, mean_pred_product_2 = valid_rmse_scoring(lr_grid_2, X_valid_2, y_valid_2)"
   ]
  },
  {
   "cell_type": "code",
   "execution_count": 46,
   "metadata": {},
   "outputs": [
    {
     "name": "stdout",
     "output_type": "stream",
     "text": [
      "Для набора данных geo_2 на валидационной выборке:\n",
      "    - лучшая модель ridge-регрессии показала RMSE: 40.08060241293291.\n",
      "    - средний запас предсказанного сырья: 94.93484766815911 тыс. баррелей\n",
      "    - истинный средний запас сырья: 95.25463671658842 тыс. баррелей\n"
     ]
    }
   ],
   "source": [
    "print(f'Для набора данных geo_2 на валидационной выборке:')\n",
    "print(f'    - лучшая модель ridge-регрессии показала RMSE: {best_rmse_valid_2}.')\n",
    "print(f'    - средний запас предсказанного сырья: {mean_pred_product_2} тыс. баррелей')\n",
    "print(f'    - истинный средний запас сырья: {y_valid_2.mean()} тыс. баррелей')"
   ]
  },
  {
   "cell_type": "markdown",
   "metadata": {},
   "source": [
    "---\n",
    "Как мы видим, средний запас предсказанного сырья почти не отличается от истинного среднего, в этом наши модели адекватны."
   ]
  },
  {
   "cell_type": "markdown",
   "metadata": {},
   "source": [
    "### Проверка моделей на адекватность"
   ]
  },
  {
   "cell_type": "markdown",
   "metadata": {},
   "source": [
    "Проверим наши модели на адекватность. Обучим модели-пустышки, заполняющие предсказания средним или медианным значением датасетов.\n",
    "\n",
    "Проверим их RMSE и сравним с RMSE наших регрессий."
   ]
  },
  {
   "cell_type": "code",
   "execution_count": 47,
   "metadata": {},
   "outputs": [],
   "source": [
    "def dummy_grid_model(X_train, y_train, X_valid, y_valid):\n",
    "\n",
    "    dummy_pipe = Pipeline(steps=[ # Подготовим пайплайн для нашей модели\n",
    "            ('preprocessor', preprocessor),\n",
    "            ('model', DummyRegressor())\n",
    "    ])\n",
    "\n",
    "    parameter_space = { # Пространство параметров, по которому будет искать лучшее решение GridSearchCV\n",
    "        'model__strategy'  : ['mean', 'median']\n",
    "    }\n",
    "\n",
    "    # В качестве скоринга мы используем отрицательное RMSE\n",
    "    dummy_grid = GridSearchCV(dummy_pipe, parameter_space, scoring='neg_root_mean_squared_error', cv=10)\n",
    "\n",
    "    dummy_grid.fit(X_train, y_train)\n",
    "    \n",
    "    predictions = dummy_grid.predict(X_valid)\n",
    "    best_rmse_valid = mean_squared_error(y_valid, predictions, squared=False) # Значение RMSE на валид. выборке\n",
    "    \n",
    "    return best_rmse_valid"
   ]
  },
  {
   "cell_type": "markdown",
   "metadata": {},
   "source": [
    "---"
   ]
  },
  {
   "cell_type": "code",
   "execution_count": 48,
   "metadata": {},
   "outputs": [],
   "source": [
    "dummy_rmse_valid_0 = dummy_grid_model(X_train_0, y_train_0, X_valid_0, y_valid_0)"
   ]
  },
  {
   "cell_type": "code",
   "execution_count": 49,
   "metadata": {},
   "outputs": [
    {
     "name": "stdout",
     "output_type": "stream",
     "text": [
      "Для набора данных geo_0 на валидационной выборке:\n",
      "    - лучшая модель пустышка показала RMSE: 44.24507845228501.\n",
      "    - лучшая модель ridge-регрессии показала RMSE: 37.68504824970936.\n"
     ]
    }
   ],
   "source": [
    "print(f'Для набора данных geo_0 на валидационной выборке:')\n",
    "print(f'    - лучшая модель пустышка показала RMSE: {dummy_rmse_valid_0}.')\n",
    "print(f'    - лучшая модель ridge-регрессии показала RMSE: {best_rmse_valid_0}.')"
   ]
  },
  {
   "cell_type": "markdown",
   "metadata": {},
   "source": [
    "---"
   ]
  },
  {
   "cell_type": "code",
   "execution_count": 50,
   "metadata": {},
   "outputs": [],
   "source": [
    "dummy_rmse_valid_1 = dummy_grid_model(X_train_1, y_train_1, X_valid_1, y_valid_1)"
   ]
  },
  {
   "cell_type": "code",
   "execution_count": 51,
   "metadata": {},
   "outputs": [
    {
     "name": "stdout",
     "output_type": "stream",
     "text": [
      "Для набора данных geo_1 на валидационной выборке:\n",
      "    - лучшая модель пустышка показала RMSE: 45.96481261084314.\n",
      "    - лучшая модель ridge-регрессии показала RMSE: 0.8928310731323991.\n"
     ]
    }
   ],
   "source": [
    "print(f'Для набора данных geo_1 на валидационной выборке:')\n",
    "print(f'    - лучшая модель пустышка показала RMSE: {dummy_rmse_valid_1}.')\n",
    "print(f'    - лучшая модель ridge-регрессии показала RMSE: {best_rmse_valid_1}.')"
   ]
  },
  {
   "cell_type": "markdown",
   "metadata": {},
   "source": [
    "---"
   ]
  },
  {
   "cell_type": "code",
   "execution_count": 52,
   "metadata": {},
   "outputs": [],
   "source": [
    "dummy_rmse_valid_2 = dummy_grid_model(X_train_2, y_train_2, X_valid_2, y_valid_2)"
   ]
  },
  {
   "cell_type": "code",
   "execution_count": 53,
   "metadata": {},
   "outputs": [
    {
     "name": "stdout",
     "output_type": "stream",
     "text": [
      "Для набора данных geo_2 на валидационной выборке:\n",
      "    - лучшая модель пустышка показала RMSE: 44.66937952025659.\n",
      "    - лучшая модель ridge-регрессии показала RMSE: 40.08060241293291.\n"
     ]
    }
   ],
   "source": [
    "print(f'Для набора данных geo_2 на валидационной выборке:')\n",
    "print(f'    - лучшая модель пустышка показала RMSE: {dummy_rmse_valid_2}.')\n",
    "print(f'    - лучшая модель ridge-регрессии показала RMSE: {best_rmse_valid_2}.')"
   ]
  },
  {
   "cell_type": "markdown",
   "metadata": {},
   "source": [
    "Наши модели ридж-регрессий справляются лучше моделей-пустышек. Проверка на адекватность пройдена."
   ]
  },
  {
   "cell_type": "markdown",
   "metadata": {},
   "source": [
    "---\n",
    "**Вывод:** завершив этап обучения и проверки моделей мы\n",
    "- разбили данные на обучающие и валидационные выборки; \n",
    "- подготовили preprocessing-шаг для пайплайна, в ходе этого шага мы стандартизируем числовые признаки;\n",
    "- обучили наши модели линейной регрессии с l2-регуляризацией;\n",
    "- проверили наши модели на валидационной выборке - для набора geo_0 значение RMSE равно 37.7, а средний запас предсказанного сырья 92.6; для набора geo_1 значение RMSE равно 0.9 , а средний запас предсказанного сырья 68.6; для набора geo_2 значение RMSE равно 40.1 , а средний запас предсказанного сырья 94.9;\n",
    "- средний запас предсказанного сырья почти не отличается от истинного среднего;\n",
    "- проверили наши модели на адекватность - все прошли проверку."
   ]
  },
  {
   "cell_type": "markdown",
   "metadata": {},
   "source": [
    "## Подготовка к расчёту прибыли"
   ]
  },
  {
   "cell_type": "markdown",
   "metadata": {},
   "source": [
    "### Расчёт безубыточного объёма сырья"
   ]
  },
  {
   "cell_type": "markdown",
   "metadata": {},
   "source": [
    "Рассчитаем достаточный объём сырья для безубыточной разработки новой скважины. Сравним полученный объём сырья со средним запасом в каждом регионе. \n",
    "\n",
    "Из условий задачи:\n",
    " - при разведке региона исследуют 500 точек, из которых с помощью машинного обучения выбирают 200 лучших для разработки;\n",
    " - бюджет на разработку скважин в регионе — 10 млрд рублей;\n",
    " - при нынешних ценах один баррель сырья приносит 450 рублей дохода. Доход с каждой единицы продукта составляет 450 тыс. рублей, поскольку объём указан в тысячах баррелей."
   ]
  },
  {
   "cell_type": "code",
   "execution_count": 54,
   "metadata": {},
   "outputs": [],
   "source": [
    "BOREHOLE = 500 # Количество исследуемых точек\n",
    "BEST_BOREHOLE = 200 # Количество лучших выбранных точек для разработки\n",
    "BUDGET = 1e10 # Бюджет на разработку скважин\n",
    "ONE_THOUSAND_BARRELS = 45e4 # Доход с единицы продукта"
   ]
  },
  {
   "cell_type": "code",
   "execution_count": 55,
   "metadata": {},
   "outputs": [],
   "source": [
    "no_loss_product = BUDGET / (BEST_BOREHOLE * ONE_THOUSAND_BARRELS)"
   ]
  },
  {
   "cell_type": "code",
   "execution_count": 56,
   "metadata": {},
   "outputs": [
    {
     "name": "stdout",
     "output_type": "stream",
     "text": [
      "Достаточный объём сырья для безубыточной разработки новой скважины: 111.11111111111111 тыс. баррелей.\n",
      "Средний запас сырья в регионе geo_0: 92.49968421774354 тыс. баррелей.\n",
      "Средний запас сырья в регионе geo_1: 68.82391591804064 тыс. баррелей.\n",
      "Средний запас сырья в регионе geo_2: 94.99834211933378 тыс. баррелей.\n"
     ]
    }
   ],
   "source": [
    "print(f'Достаточный объём сырья для безубыточной разработки новой скважины: {no_loss_product} тыс. баррелей.')\n",
    "print(f'Средний запас сырья в регионе geo_0: {geo_0[\"product\"].mean()} тыс. баррелей.')\n",
    "print(f'Средний запас сырья в регионе geo_1: {geo_1[\"product\"].mean()} тыс. баррелей.')\n",
    "print(f'Средний запас сырья в регионе geo_2: {geo_2[\"product\"].mean()} тыс. баррелей.')"
   ]
  },
  {
   "cell_type": "markdown",
   "metadata": {},
   "source": [
    "---\n",
    "Ни у одного региона средний запас сырья не дотягивает до безубыточного. Пока рано делать вывод о том, какой регион привлекательней."
   ]
  },
  {
   "cell_type": "markdown",
   "metadata": {},
   "source": [
    "### Функция для расчёта прибыли по выбранным скважинам и предсказаниям модели"
   ]
  },
  {
   "cell_type": "markdown",
   "metadata": {},
   "source": [
    "Напишим функцию для расчёта прибыли по выбранным скважинам и предсказаниям модели:\n",
    " - выберем скважины с максимальными значениями предсказаний;\n",
    " - просуммируем целевое значение объёма сырья, соответствующее этим предсказаниям;\n",
    " - рассчитаем прибыль для полученного объёма сырья."
   ]
  },
  {
   "cell_type": "code",
   "execution_count": 57,
   "metadata": {},
   "outputs": [],
   "source": [
    "def revenue(target, predictions, count):\n",
    "    preds_sorted = predictions.sort_values(ascending=False)\n",
    "    selected = target[preds_sorted.index][:count]\n",
    "\n",
    "\n",
    "    # КОД РЕВЬЮЕРА, debug\n",
    "    if target[preds_sorted.index].shape[0] > preds_sorted.shape[0]:\n",
    "        print(\"Shape mismatch! Targets shape:\", target[preds_sorted.index].shape[0])\n",
    "\n",
    "\n",
    "    return (ONE_THOUSAND_BARRELS * selected.sum() - BUDGET)"
   ]
  },
  {
   "cell_type": "code",
   "execution_count": 68,
   "metadata": {},
   "outputs": [
    {
     "name": "stdout",
     "output_type": "stream",
     "text": [
      "3468529787.422388 2415086696.681511 2396613000.939848\n"
     ]
    }
   ],
   "source": [
    "# КОД РЕВЬЮЕРА\n",
    "print(\n",
    "    revenue(y_valid_0, predictions_0, BEST_BOREHOLE),\n",
    "    revenue(y_valid_1, predictions_1, BEST_BOREHOLE),\n",
    "    revenue(y_valid_2, predictions_2, BEST_BOREHOLE)\n",
    ")"
   ]
  },
  {
   "cell_type": "markdown",
   "metadata": {},
   "source": [
    "Для того, чтобы функция работала как надо, подготовим наборы предсказаний - превратим их из массивов numpy в объекты pd.Series и присвоим индексы целевых значений объемов сырья валидационных выборок."
   ]
  },
  {
   "cell_type": "code",
   "execution_count": 58,
   "metadata": {},
   "outputs": [],
   "source": [
    "predictions_0 = pd.Series(predictions_0, index=y_valid_0.index)\n",
    "predictions_1 = pd.Series(predictions_1, index=y_valid_1.index)\n",
    "predictions_2 = pd.Series(predictions_2, index=y_valid_2.index)"
   ]
  },
  {
   "cell_type": "markdown",
   "metadata": {},
   "source": [
    "---\n",
    "**Вывод**: завершив этап подготовки к расчёту прибыли, мы\n",
    "- рассчитали достаточный объём сырья для безубыточной разработки новой скважины: 111.1 тыс. баррелей;\n",
    "- подготовили функцию для расчёта прибыли по выбранным скважинам и предсказаниям модели."
   ]
  },
  {
   "cell_type": "markdown",
   "metadata": {},
   "source": [
    "## Расчёт прибыли и рисков "
   ]
  },
  {
   "cell_type": "markdown",
   "metadata": {},
   "source": [
    "Применим технику Bootstrap с 1000 выборок, чтобы найти распределение прибыли.\n",
    "Напишем для удобства функцию:"
   ]
  },
  {
   "cell_type": "code",
   "execution_count": 59,
   "metadata": {},
   "outputs": [],
   "source": [
    "def bootstrap_revenue(target, predictions, n, count):\n",
    "    \n",
    "    revenue_values = []\n",
    "    \n",
    "    for i in range(1000):\n",
    "        target_subsample = target.sample(n=n, replace=True, random_state=state)\n",
    "        preds_subsample = predictions[target_subsample.index]\n",
    "        \n",
    "        target_subsample.reset_index(inplace=True, drop=True)\n",
    "        preds_subsample.reset_index(inplace=True, drop=True)\n",
    "        \n",
    "        revenue_values.append(revenue(target_subsample, preds_subsample, count))\n",
    "\n",
    "    revenue_values = pd.Series(revenue_values)\n",
    "    \n",
    "    return revenue_values"
   ]
  },
  {
   "cell_type": "code",
   "execution_count": 60,
   "metadata": {},
   "outputs": [],
   "source": [
    "revenue_values_0 = bootstrap_revenue(y_valid_0, predictions_0, BOREHOLE, BEST_BOREHOLE)\n",
    "revenue_values_1 = bootstrap_revenue(y_valid_1, predictions_1, BOREHOLE, BEST_BOREHOLE)\n",
    "revenue_values_2 = bootstrap_revenue(y_valid_2, predictions_2, BOREHOLE, BEST_BOREHOLE)"
   ]
  },
  {
   "cell_type": "markdown",
   "metadata": {},
   "source": [
    "Напишем функцию для подчета статистик распределения прибыли:"
   ]
  },
  {
   "cell_type": "code",
   "execution_count": 61,
   "metadata": {},
   "outputs": [],
   "source": [
    "def stats_revenue(revenue_values):\n",
    "    print(f'Средняя прибыль равна: {revenue_values.mean()} руб.')\n",
    "    print(f'95% доверительный интервал: {revenue_values.quantile(0.025)} - {revenue_values.quantile(0.975)} руб.')\n",
    "    print(f'Риск убытков равен: {st.percentileofscore(revenue_values, 0)}%.')\n",
    "    \n",
    "    sns.histplot(revenue_values, bins=100)\n",
    "    plt.axvline(x=revenue_values.quantile(0.025), ymin=0, ymax=1, linewidth=4, color='r', ls='--')\n",
    "    plt.axvline(x=revenue_values.quantile(0.975), ymin=0, ymax=1, linewidth=4, color='r', ls='--')\n",
    "    plt.text(x=(revenue_values.quantile(0.025)-0.03e9),y=15,s='2.5% квантиль',rotation=90)\n",
    "    plt.text(x=(revenue_values.quantile(0.975)+0.01e9),y=15,s='97.5% квантиль',rotation=90)\n",
    "    plt.xticks(np.arange(revenue_values.min(), revenue_values.max(), step=0.1e9))\n",
    "    plt.title('Гистограмма распределения прибыли бутстрапированной выборки')\n",
    "    plt.xlabel('Прибыль (в млрд. рублей)')\n",
    "    plt.ylabel('Количество объектов из выборки')\n",
    "    plt.show()"
   ]
  },
  {
   "cell_type": "markdown",
   "metadata": {},
   "source": [
    "Рассчитаем статистики наших распределений:"
   ]
  },
  {
   "cell_type": "code",
   "execution_count": 62,
   "metadata": {},
   "outputs": [
    {
     "name": "stdout",
     "output_type": "stream",
     "text": [
      "Для региона geo_0:\n",
      "Средняя прибыль равна: 403726181.23602927 руб.\n",
      "95% доверительный интервал: -137690003.15147296 - 902848310.7781234 руб.\n",
      "Риск убытков равен: 5.9%.\n"
     ]
    },
    {
     "data": {
      "image/png": "[encoded data removed]",
      "text/plain": [
       "<Figure size 1080x720 with 1 Axes>"
      ]
     },
     "metadata": {},
     "output_type": "display_data"
    }
   ],
   "source": [
    "print('Для региона geo_0:')\n",
    "stats_revenue(revenue_values_0)"
   ]
  },
  {
   "cell_type": "code",
   "execution_count": 63,
   "metadata": {},
   "outputs": [
    {
     "name": "stdout",
     "output_type": "stream",
     "text": [
      "Для региона geo_1:\n",
      "Средняя прибыль равна: 439363670.3344077 руб.\n",
      "95% доверительный интервал: 31747699.959269673 - 845875096.0724705 руб.\n",
      "Риск убытков равен: 1.6%.\n"
     ]
    },
    {
     "data": {
      "image/png": "[encoded data removed]",
      "text/plain": [
       "<Figure size 1080x720 with 1 Axes>"
      ]
     },
     "metadata": {},
     "output_type": "display_data"
    }
   ],
   "source": [
    "print('Для региона geo_1:')\n",
    "stats_revenue(revenue_values_1)"
   ]
  },
  {
   "cell_type": "code",
   "execution_count": 64,
   "metadata": {},
   "outputs": [
    {
     "name": "stdout",
     "output_type": "stream",
     "text": [
      "Для региона geo_2:\n",
      "Средняя прибыль равна: 367763622.7215769 руб.\n",
      "95% доверительный интервал: -163242657.76534465 - 877126556.7342361 руб.\n",
      "Риск убытков равен: 8.1%.\n"
     ]
    },
    {
     "data": {
      "image/png": "[encoded data removed]",
      "text/plain": [
       "<Figure size 1080x720 with 1 Axes>"
      ]
     },
     "metadata": {},
     "output_type": "display_data"
    }
   ],
   "source": [
    "print('Для региона geo_2:')\n",
    "stats_revenue(revenue_values_2)"
   ]
  },
  {
   "cell_type": "markdown",
   "metadata": {},
   "source": [
    "---\n",
    "**Вывод:** завершив этап расчёта прибыли и рисков, мы обнаружили наиболее перспективный регион для разработки скважин: 2-ой по счёту регион, geo_1. У данного региона наиболее высокая средняя прибыль - 439 млн. рублей и риск убытков составляет всего 1.6%, что практически в 4 и 5 раз меньше, чем в других регионах."
   ]
  },
  {
   "cell_type": "markdown",
   "metadata": {},
   "source": [
    "## Общий вывод"
   ]
  },
  {
   "cell_type": "markdown",
   "metadata": {},
   "source": [
    "Сразу отвечая на главный вопрос проекта, мы обнаружили наиболее перспективный регион для разработки скважин: **2-ой по счёту регион, geo_1**. У данного региона наиболее высокая средняя прибыль - **439 млн. рублей** и риск убытков составляет всего **1.6%**, что практически в 4 и 5 раз меньше, чем в других регионах.\n",
    "\n",
    "В целом, в ходе выполнения проекта:\n",
    "\n",
    "- завершив этап загрузки и подготовки данных мы\n",
    "    - удалили в датасетах признак, лишний для наших целей обучения моделей - \"id\"; \n",
    "    - не обнаружили пропусков в данных;\n",
    "    - проверили данные на дубликаты, обнаружили и удалили их;\n",
    "    - не обнаружили очевидных выбросов;\n",
    "    - проверили данные на мультиколлинеарность - её нет;\n",
    "    - отложили стандартизацию данных на этап подготовки пайплайнов.\n",
    "\n",
    "\n",
    "- завершив этап обучения и проверки моделей мы\n",
    "    - разбили данные на обучающие и валидационные выборки; \n",
    "    - подготовили preprocessing-шаг для пайплайна, в ходе этого шага мы стандартизируем числовые признаки;\n",
    "    - обучили наши модели линейной регрессии с l2-регуляризацией;\n",
    "    - проверили наши модели на валидационной выборке - для набора geo_0 значение RMSE равно 37.7, а средний запас предсказанного сырья 92.6; для набора geo_1 значение RMSE равно 0.9 , а средний запас предсказанного сырья 68.6; для набора geo_2 значение RMSE равно 40.1 , а средний запас предсказанного сырья 94.9;\n",
    "    - проверили наши модели на адекватность - все прошли проверку.\n",
    "\n",
    "\n",
    "- завершив этап подготовки к расчёту прибыли, мы\n",
    "    - рассчитали достаточный объём сырья для безубыточной разработки новой скважины: 111.1 тыс. баррелей;\n",
    "    - подготовили функцию для расчёта прибыли по выбранным скважинам и предсказаниям модели.\n",
    "\n",
    "\n",
    "- завершив этап расчёта прибыли и рисков, мы обнаружили наиболее перспективный регион для разработки скважин: 2-ой по счёту регион, geo_1. У данного региона наиболее высокая средняя прибыль - 439 млн. рублей и риск убытков составляет всего 1.6%, что практически в 4 и 5 раз меньше, чем в других регионах.\n"
   ]
  }
 ],
 "metadata": {
  "ExecuteTimeLog": [
   {
    "duration": 1667,
    "start_time": "2023-02-15T09:27:59.764Z"
   },
   {
    "duration": 1570,
    "start_time": "2023-02-15T09:30:07.794Z"
   },
   {
    "duration": 18,
    "start_time": "2023-02-15T09:30:33.098Z"
   },
   {
    "duration": 14,
    "start_time": "2023-02-15T09:30:35.556Z"
   },
   {
    "duration": 14,
    "start_time": "2023-02-15T09:30:37.817Z"
   },
   {
    "duration": 14,
    "start_time": "2023-02-15T09:31:33.204Z"
   },
   {
    "duration": 14,
    "start_time": "2023-02-15T09:31:36.621Z"
   },
   {
    "duration": 9,
    "start_time": "2023-02-15T09:31:37.545Z"
   },
   {
    "duration": 782,
    "start_time": "2023-02-15T09:35:18.808Z"
   },
   {
    "duration": 844,
    "start_time": "2023-02-15T09:35:22.246Z"
   },
   {
    "duration": 1050,
    "start_time": "2023-02-15T09:35:25.352Z"
   },
   {
    "duration": 37,
    "start_time": "2023-02-15T09:37:44.172Z"
   },
   {
    "duration": 37,
    "start_time": "2023-02-15T09:37:46.574Z"
   },
   {
    "duration": 37,
    "start_time": "2023-02-15T09:37:48.893Z"
   },
   {
    "duration": 1176,
    "start_time": "2023-02-15T09:44:29.959Z"
   },
   {
    "duration": 1069,
    "start_time": "2023-02-15T09:44:33.566Z"
   },
   {
    "duration": 1110,
    "start_time": "2023-02-15T09:44:40.259Z"
   },
   {
    "duration": 29,
    "start_time": "2023-02-15T09:54:59.049Z"
   },
   {
    "duration": 27,
    "start_time": "2023-02-15T09:55:21.149Z"
   },
   {
    "duration": 31,
    "start_time": "2023-02-15T09:55:23.330Z"
   },
   {
    "duration": 38,
    "start_time": "2023-02-15T10:01:59.110Z"
   },
   {
    "duration": 436,
    "start_time": "2023-02-15T10:03:27.285Z"
   },
   {
    "duration": 31,
    "start_time": "2023-02-15T10:03:38.948Z"
   },
   {
    "duration": 30,
    "start_time": "2023-02-15T10:05:28.121Z"
   },
   {
    "duration": 422,
    "start_time": "2023-02-15T10:05:32.051Z"
   },
   {
    "duration": 30,
    "start_time": "2023-02-15T10:05:37.053Z"
   },
   {
    "duration": 33,
    "start_time": "2023-02-15T10:06:02.335Z"
   },
   {
    "duration": 391,
    "start_time": "2023-02-15T10:06:23.198Z"
   },
   {
    "duration": 27,
    "start_time": "2023-02-15T10:06:27.473Z"
   },
   {
    "duration": 26,
    "start_time": "2023-02-15T10:06:32.083Z"
   },
   {
    "duration": 31,
    "start_time": "2023-02-15T10:06:34.772Z"
   },
   {
    "duration": 15,
    "start_time": "2023-02-15T10:09:36.656Z"
   },
   {
    "duration": 13,
    "start_time": "2023-02-15T10:09:52.504Z"
   },
   {
    "duration": 13,
    "start_time": "2023-02-15T10:09:54.879Z"
   },
   {
    "duration": 90,
    "start_time": "2023-02-15T10:12:16.891Z"
   },
   {
    "duration": 420,
    "start_time": "2023-02-15T10:12:52.048Z"
   },
   {
    "duration": 387,
    "start_time": "2023-02-15T10:12:57.668Z"
   },
   {
    "duration": 344,
    "start_time": "2023-02-15T10:13:00.751Z"
   },
   {
    "duration": 87,
    "start_time": "2023-02-15T10:36:42.955Z"
   },
   {
    "duration": 6,
    "start_time": "2023-02-15T10:39:50.887Z"
   },
   {
    "duration": 16,
    "start_time": "2023-02-15T10:40:50.541Z"
   },
   {
    "duration": 45,
    "start_time": "2023-02-15T10:41:25.081Z"
   },
   {
    "duration": 4,
    "start_time": "2023-02-15T10:47:17.161Z"
   },
   {
    "duration": 7,
    "start_time": "2023-02-15T10:49:57.871Z"
   },
   {
    "duration": 7,
    "start_time": "2023-02-15T11:53:44.706Z"
   },
   {
    "duration": 7,
    "start_time": "2023-02-15T12:09:35.687Z"
   },
   {
    "duration": 3,
    "start_time": "2023-02-15T12:10:24.263Z"
   },
   {
    "duration": 6,
    "start_time": "2023-02-15T12:10:37.363Z"
   },
   {
    "duration": 63319,
    "start_time": "2023-02-15T12:10:46.112Z"
   },
   {
    "duration": 5,
    "start_time": "2023-02-15T12:14:31.601Z"
   },
   {
    "duration": 64683,
    "start_time": "2023-02-15T12:14:36.465Z"
   },
   {
    "duration": 14,
    "start_time": "2023-02-15T12:17:14.280Z"
   },
   {
    "duration": 13,
    "start_time": "2023-02-15T12:18:03.652Z"
   },
   {
    "duration": 29,
    "start_time": "2023-02-15T12:19:14.314Z"
   },
   {
    "duration": 13,
    "start_time": "2023-02-15T12:24:56.259Z"
   },
   {
    "duration": 10,
    "start_time": "2023-02-15T12:25:36.978Z"
   },
   {
    "duration": 57767,
    "start_time": "2023-02-15T12:28:00.377Z"
   },
   {
    "duration": 85,
    "start_time": "2023-02-15T12:28:58.150Z"
   },
   {
    "duration": 63623,
    "start_time": "2023-02-15T12:28:58.241Z"
   },
   {
    "duration": 11,
    "start_time": "2023-02-15T12:30:01.866Z"
   },
   {
    "duration": 10,
    "start_time": "2023-02-15T12:42:48.817Z"
   },
   {
    "duration": 3,
    "start_time": "2023-02-15T12:43:17.674Z"
   },
   {
    "duration": 4,
    "start_time": "2023-02-15T12:43:34.509Z"
   },
   {
    "duration": 20,
    "start_time": "2023-02-15T12:44:48.383Z"
   },
   {
    "duration": 10,
    "start_time": "2023-02-15T12:45:28.647Z"
   },
   {
    "duration": 11,
    "start_time": "2023-02-15T12:45:30.885Z"
   },
   {
    "duration": 4,
    "start_time": "2023-02-15T12:46:58.482Z"
   },
   {
    "duration": 7,
    "start_time": "2023-02-15T12:47:33.946Z"
   },
   {
    "duration": 4,
    "start_time": "2023-02-15T12:47:36.411Z"
   },
   {
    "duration": 8,
    "start_time": "2023-02-16T08:45:19.420Z"
   },
   {
    "duration": 4,
    "start_time": "2023-02-16T08:45:20.573Z"
   },
   {
    "duration": 5,
    "start_time": "2023-02-16T09:03:59.136Z"
   },
   {
    "duration": 141,
    "start_time": "2023-02-16T09:05:29.244Z"
   },
   {
    "duration": 4,
    "start_time": "2023-02-16T09:05:44.483Z"
   },
   {
    "duration": 306,
    "start_time": "2023-02-16T09:05:46.525Z"
   },
   {
    "duration": 5,
    "start_time": "2023-02-16T09:06:33.579Z"
   },
   {
    "duration": 287,
    "start_time": "2023-02-16T09:07:40.839Z"
   },
   {
    "duration": 4,
    "start_time": "2023-02-16T09:07:41.560Z"
   },
   {
    "duration": 320,
    "start_time": "2023-02-16T09:08:23.834Z"
   },
   {
    "duration": 5,
    "start_time": "2023-02-16T09:08:24.241Z"
   },
   {
    "duration": 5,
    "start_time": "2023-02-16T09:11:33.433Z"
   },
   {
    "duration": 314,
    "start_time": "2023-02-16T09:11:33.942Z"
   },
   {
    "duration": 4,
    "start_time": "2023-02-16T09:11:34.533Z"
   },
   {
    "duration": 306,
    "start_time": "2023-02-16T09:11:36.430Z"
   },
   {
    "duration": 4,
    "start_time": "2023-02-16T09:11:36.932Z"
   },
   {
    "duration": 305,
    "start_time": "2023-02-16T09:11:39.877Z"
   },
   {
    "duration": 4,
    "start_time": "2023-02-16T09:11:40.457Z"
   },
   {
    "duration": 4,
    "start_time": "2023-02-16T09:11:47.188Z"
   },
   {
    "duration": 294,
    "start_time": "2023-02-16T09:11:48.333Z"
   },
   {
    "duration": 3,
    "start_time": "2023-02-16T09:11:48.834Z"
   },
   {
    "duration": 305,
    "start_time": "2023-02-16T09:11:49.962Z"
   },
   {
    "duration": 3,
    "start_time": "2023-02-16T09:11:50.373Z"
   },
   {
    "duration": 3,
    "start_time": "2023-02-16T09:32:38.761Z"
   },
   {
    "duration": 3,
    "start_time": "2023-02-16T09:35:05.259Z"
   },
   {
    "duration": 4,
    "start_time": "2023-02-16T09:36:54.086Z"
   },
   {
    "duration": 5,
    "start_time": "2023-02-16T09:58:18.432Z"
   },
   {
    "duration": 10,
    "start_time": "2023-02-16T09:58:48.676Z"
   },
   {
    "duration": 7,
    "start_time": "2023-02-16T09:59:46.545Z"
   },
   {
    "duration": 3,
    "start_time": "2023-02-16T10:02:37.965Z"
   },
   {
    "duration": 7,
    "start_time": "2023-02-16T10:02:44.134Z"
   },
   {
    "duration": 10,
    "start_time": "2023-02-16T10:02:56.359Z"
   },
   {
    "duration": 15,
    "start_time": "2023-02-16T10:03:25.349Z"
   },
   {
    "duration": 6,
    "start_time": "2023-02-16T10:03:27.463Z"
   },
   {
    "duration": 9,
    "start_time": "2023-02-16T10:03:57.140Z"
   },
   {
    "duration": 4,
    "start_time": "2023-02-16T10:04:01.634Z"
   },
   {
    "duration": 6,
    "start_time": "2023-02-16T10:04:03.137Z"
   },
   {
    "duration": 7,
    "start_time": "2023-02-16T10:04:12.736Z"
   },
   {
    "duration": 3,
    "start_time": "2023-02-16T10:05:50.862Z"
   },
   {
    "duration": 4,
    "start_time": "2023-02-16T10:09:35.044Z"
   },
   {
    "duration": 8,
    "start_time": "2023-02-16T10:09:39.438Z"
   },
   {
    "duration": 6,
    "start_time": "2023-02-16T10:09:47.241Z"
   },
   {
    "duration": 7,
    "start_time": "2023-02-16T10:09:55.031Z"
   },
   {
    "duration": 5,
    "start_time": "2023-02-16T10:19:45.236Z"
   },
   {
    "duration": 1576,
    "start_time": "2023-02-16T10:20:42.648Z"
   },
   {
    "duration": 5,
    "start_time": "2023-02-16T10:20:54.591Z"
   },
   {
    "duration": 1515,
    "start_time": "2023-02-16T10:20:56.549Z"
   },
   {
    "duration": 4512,
    "start_time": "2023-02-16T10:21:18.135Z"
   },
   {
    "duration": 6,
    "start_time": "2023-02-16T10:26:09.667Z"
   },
   {
    "duration": 4,
    "start_time": "2023-02-16T10:32:24.852Z"
   },
   {
    "duration": 7,
    "start_time": "2023-02-16T10:32:35.945Z"
   },
   {
    "duration": 7,
    "start_time": "2023-02-16T10:32:47.937Z"
   },
   {
    "duration": 7,
    "start_time": "2023-02-16T10:32:49.379Z"
   },
   {
    "duration": 7,
    "start_time": "2023-02-16T10:33:04.350Z"
   },
   {
    "duration": 8,
    "start_time": "2023-02-16T10:33:09.956Z"
   },
   {
    "duration": 7,
    "start_time": "2023-02-16T10:35:02.497Z"
   },
   {
    "duration": 7,
    "start_time": "2023-02-16T10:35:05.853Z"
   },
   {
    "duration": 7,
    "start_time": "2023-02-16T10:35:07.793Z"
   },
   {
    "duration": 1452,
    "start_time": "2023-02-16T11:07:18.721Z"
   },
   {
    "duration": 472,
    "start_time": "2023-02-16T11:07:20.175Z"
   },
   {
    "duration": 16,
    "start_time": "2023-02-16T11:07:20.648Z"
   },
   {
    "duration": 13,
    "start_time": "2023-02-16T11:07:20.666Z"
   },
   {
    "duration": 18,
    "start_time": "2023-02-16T11:07:20.681Z"
   },
   {
    "duration": 31,
    "start_time": "2023-02-16T11:07:20.700Z"
   },
   {
    "duration": 12,
    "start_time": "2023-02-16T11:07:20.732Z"
   },
   {
    "duration": 15,
    "start_time": "2023-02-16T11:07:20.745Z"
   },
   {
    "duration": 1152,
    "start_time": "2023-02-16T11:07:20.762Z"
   },
   {
    "duration": 963,
    "start_time": "2023-02-16T11:07:21.921Z"
   },
   {
    "duration": 1131,
    "start_time": "2023-02-16T11:07:22.885Z"
   },
   {
    "duration": 36,
    "start_time": "2023-02-16T11:07:24.018Z"
   },
   {
    "duration": 35,
    "start_time": "2023-02-16T11:07:24.056Z"
   },
   {
    "duration": 56,
    "start_time": "2023-02-16T11:07:24.095Z"
   },
   {
    "duration": 29,
    "start_time": "2023-02-16T11:07:24.153Z"
   },
   {
    "duration": 58,
    "start_time": "2023-02-16T11:07:24.184Z"
   },
   {
    "duration": 29,
    "start_time": "2023-02-16T11:07:24.244Z"
   },
   {
    "duration": 41,
    "start_time": "2023-02-16T11:07:24.275Z"
   },
   {
    "duration": 28,
    "start_time": "2023-02-16T11:07:24.317Z"
   },
   {
    "duration": 32,
    "start_time": "2023-02-16T11:07:24.347Z"
   },
   {
    "duration": 41,
    "start_time": "2023-02-16T11:07:24.381Z"
   },
   {
    "duration": 15,
    "start_time": "2023-02-16T11:07:24.425Z"
   },
   {
    "duration": 46,
    "start_time": "2023-02-16T11:07:24.443Z"
   },
   {
    "duration": 396,
    "start_time": "2023-02-16T11:07:24.492Z"
   },
   {
    "duration": 380,
    "start_time": "2023-02-16T11:07:24.890Z"
   },
   {
    "duration": 367,
    "start_time": "2023-02-16T11:07:25.271Z"
   },
   {
    "duration": 3,
    "start_time": "2023-02-16T11:07:25.640Z"
   },
   {
    "duration": 63,
    "start_time": "2023-02-16T11:07:25.645Z"
   },
   {
    "duration": 4,
    "start_time": "2023-02-16T11:07:25.709Z"
   },
   {
    "duration": 23,
    "start_time": "2023-02-16T11:07:25.714Z"
   },
   {
    "duration": 68309,
    "start_time": "2023-02-16T11:07:25.738Z"
   },
   {
    "duration": 11,
    "start_time": "2023-02-16T11:08:34.049Z"
   },
   {
    "duration": 59763,
    "start_time": "2023-02-16T11:08:34.062Z"
   },
   {
    "duration": 10,
    "start_time": "2023-02-16T11:09:33.827Z"
   },
   {
    "duration": 67188,
    "start_time": "2023-02-16T11:09:33.839Z"
   },
   {
    "duration": 12,
    "start_time": "2023-02-16T11:10:41.029Z"
   },
   {
    "duration": 6,
    "start_time": "2023-02-16T11:10:41.043Z"
   },
   {
    "duration": 12,
    "start_time": "2023-02-16T11:10:41.051Z"
   },
   {
    "duration": 161,
    "start_time": "2023-02-16T11:10:41.065Z"
   },
   {
    "duration": 12,
    "start_time": "2023-02-16T11:10:41.228Z"
   },
   {
    "duration": 178,
    "start_time": "2023-02-16T11:10:41.247Z"
   },
   {
    "duration": 19,
    "start_time": "2023-02-16T11:10:41.427Z"
   },
   {
    "duration": 80,
    "start_time": "2023-02-16T11:10:41.449Z"
   },
   {
    "duration": 97,
    "start_time": "2023-02-16T11:10:41.531Z"
   },
   {
    "duration": 321,
    "start_time": "2023-02-16T11:10:41.630Z"
   },
   {
    "duration": 4,
    "start_time": "2023-02-16T11:10:41.953Z"
   },
   {
    "duration": 324,
    "start_time": "2023-02-16T11:10:41.958Z"
   },
   {
    "duration": 3,
    "start_time": "2023-02-16T11:10:42.284Z"
   },
   {
    "duration": 313,
    "start_time": "2023-02-16T11:10:42.289Z"
   },
   {
    "duration": 4,
    "start_time": "2023-02-16T11:10:42.604Z"
   },
   {
    "duration": 12,
    "start_time": "2023-02-16T11:10:42.609Z"
   },
   {
    "duration": 8,
    "start_time": "2023-02-16T11:10:42.623Z"
   },
   {
    "duration": 8,
    "start_time": "2023-02-16T11:10:42.633Z"
   },
   {
    "duration": 9,
    "start_time": "2023-02-16T11:10:42.642Z"
   },
   {
    "duration": 5,
    "start_time": "2023-02-16T11:10:42.653Z"
   },
   {
    "duration": 5,
    "start_time": "2023-02-16T11:10:42.660Z"
   },
   {
    "duration": 4422,
    "start_time": "2023-02-16T11:10:42.667Z"
   },
   {
    "duration": 3,
    "start_time": "2023-02-16T11:10:47.090Z"
   },
   {
    "duration": 9,
    "start_time": "2023-02-16T11:10:47.095Z"
   },
   {
    "duration": 20,
    "start_time": "2023-02-16T11:10:47.106Z"
   },
   {
    "duration": 9,
    "start_time": "2023-02-16T11:10:47.128Z"
   },
   {
    "duration": 1533,
    "start_time": "2023-02-16T19:48:53.379Z"
   },
   {
    "duration": 464,
    "start_time": "2023-02-16T19:48:54.917Z"
   },
   {
    "duration": 16,
    "start_time": "2023-02-16T19:48:55.383Z"
   },
   {
    "duration": 16,
    "start_time": "2023-02-16T19:48:55.403Z"
   },
   {
    "duration": 47,
    "start_time": "2023-02-16T19:48:55.422Z"
   },
   {
    "duration": 14,
    "start_time": "2023-02-16T19:48:55.470Z"
   },
   {
    "duration": 24,
    "start_time": "2023-02-16T19:48:55.486Z"
   },
   {
    "duration": 12,
    "start_time": "2023-02-16T19:48:55.512Z"
   },
   {
    "duration": 1120,
    "start_time": "2023-02-16T19:48:55.527Z"
   },
   {
    "duration": 1271,
    "start_time": "2023-02-16T19:48:56.651Z"
   },
   {
    "duration": 1226,
    "start_time": "2023-02-16T19:48:57.925Z"
   },
   {
    "duration": 56,
    "start_time": "2023-02-16T19:48:59.153Z"
   },
   {
    "duration": 51,
    "start_time": "2023-02-16T19:48:59.216Z"
   },
   {
    "duration": 47,
    "start_time": "2023-02-16T19:48:59.272Z"
   },
   {
    "duration": 51,
    "start_time": "2023-02-16T19:48:59.321Z"
   },
   {
    "duration": 41,
    "start_time": "2023-02-16T19:48:59.374Z"
   },
   {
    "duration": 24,
    "start_time": "2023-02-16T19:48:59.417Z"
   },
   {
    "duration": 32,
    "start_time": "2023-02-16T19:48:59.471Z"
   },
   {
    "duration": 31,
    "start_time": "2023-02-16T19:48:59.505Z"
   },
   {
    "duration": 56,
    "start_time": "2023-02-16T19:48:59.537Z"
   },
   {
    "duration": 20,
    "start_time": "2023-02-16T19:48:59.595Z"
   },
   {
    "duration": 51,
    "start_time": "2023-02-16T19:48:59.618Z"
   },
   {
    "duration": 17,
    "start_time": "2023-02-16T19:48:59.671Z"
   },
   {
    "duration": 547,
    "start_time": "2023-02-16T19:48:59.689Z"
   },
   {
    "duration": 451,
    "start_time": "2023-02-16T19:49:00.239Z"
   },
   {
    "duration": 438,
    "start_time": "2023-02-16T19:49:00.692Z"
   },
   {
    "duration": 4,
    "start_time": "2023-02-16T19:49:01.133Z"
   },
   {
    "duration": 62,
    "start_time": "2023-02-16T19:49:01.139Z"
   },
   {
    "duration": 4,
    "start_time": "2023-02-16T19:49:01.203Z"
   },
   {
    "duration": 27,
    "start_time": "2023-02-16T19:49:01.211Z"
   },
   {
    "duration": 62663,
    "start_time": "2023-02-16T19:49:01.240Z"
   },
   {
    "duration": 15,
    "start_time": "2023-02-16T19:50:03.905Z"
   },
   {
    "duration": 53850,
    "start_time": "2023-02-16T19:50:03.922Z"
   },
   {
    "duration": 11,
    "start_time": "2023-02-16T19:50:57.774Z"
   },
   {
    "duration": 60273,
    "start_time": "2023-02-16T19:50:57.786Z"
   },
   {
    "duration": 11,
    "start_time": "2023-02-16T19:51:58.067Z"
   },
   {
    "duration": 9,
    "start_time": "2023-02-16T19:51:58.080Z"
   },
   {
    "duration": 12,
    "start_time": "2023-02-16T19:51:58.091Z"
   },
   {
    "duration": 72,
    "start_time": "2023-02-16T19:51:58.105Z"
   },
   {
    "duration": 114,
    "start_time": "2023-02-16T19:51:58.179Z"
   },
   {
    "duration": 14,
    "start_time": "2023-02-16T19:51:58.371Z"
   },
   {
    "duration": 10,
    "start_time": "2023-02-16T19:51:58.468Z"
   },
   {
    "duration": 13,
    "start_time": "2023-02-16T19:51:58.480Z"
   },
   {
    "duration": 107,
    "start_time": "2023-02-16T19:51:58.569Z"
   },
   {
    "duration": 280,
    "start_time": "2023-02-16T19:51:58.678Z"
   },
   {
    "duration": 7,
    "start_time": "2023-02-16T19:51:58.960Z"
   },
   {
    "duration": 302,
    "start_time": "2023-02-16T19:51:58.969Z"
   },
   {
    "duration": 4,
    "start_time": "2023-02-16T19:51:59.273Z"
   },
   {
    "duration": 318,
    "start_time": "2023-02-16T19:51:59.279Z"
   },
   {
    "duration": 4,
    "start_time": "2023-02-16T19:51:59.599Z"
   },
   {
    "duration": 8,
    "start_time": "2023-02-16T19:51:59.605Z"
   },
   {
    "duration": 9,
    "start_time": "2023-02-16T19:51:59.615Z"
   },
   {
    "duration": 7,
    "start_time": "2023-02-16T19:51:59.627Z"
   },
   {
    "duration": 33,
    "start_time": "2023-02-16T19:51:59.636Z"
   },
   {
    "duration": 6,
    "start_time": "2023-02-16T19:51:59.672Z"
   },
   {
    "duration": 9,
    "start_time": "2023-02-16T19:51:59.680Z"
   },
   {
    "duration": 10542,
    "start_time": "2023-02-16T19:51:59.691Z"
   },
   {
    "duration": 3,
    "start_time": "2023-02-16T19:52:10.235Z"
   },
   {
    "duration": 33,
    "start_time": "2023-02-16T19:52:10.240Z"
   },
   {
    "duration": 12,
    "start_time": "2023-02-16T19:52:10.275Z"
   },
   {
    "duration": 21,
    "start_time": "2023-02-16T19:52:10.289Z"
   },
   {
    "duration": 5,
    "start_time": "2023-02-16T19:52:32.870Z"
   },
   {
    "duration": 4,
    "start_time": "2023-02-16T19:52:33.899Z"
   },
   {
    "duration": 6,
    "start_time": "2023-02-16T19:52:36.298Z"
   },
   {
    "duration": 7048,
    "start_time": "2023-02-16T19:52:37.189Z"
   },
   {
    "duration": 3,
    "start_time": "2023-02-16T19:57:53.829Z"
   },
   {
    "duration": 3,
    "start_time": "2023-02-16T19:57:54.450Z"
   },
   {
    "duration": 5,
    "start_time": "2023-02-16T19:57:55.699Z"
   },
   {
    "duration": 4604,
    "start_time": "2023-02-16T19:57:56.181Z"
   },
   {
    "duration": 3,
    "start_time": "2023-02-16T19:58:08.684Z"
   },
   {
    "duration": 7,
    "start_time": "2023-02-16T19:58:09.291Z"
   },
   {
    "duration": 7,
    "start_time": "2023-02-16T19:58:09.700Z"
   },
   {
    "duration": 6,
    "start_time": "2023-02-16T19:58:10.119Z"
   },
   {
    "duration": 4,
    "start_time": "2023-02-16T20:17:15.547Z"
   },
   {
    "duration": 4,
    "start_time": "2023-02-16T20:17:17.069Z"
   },
   {
    "duration": 4,
    "start_time": "2023-02-16T20:17:18.569Z"
   },
   {
    "duration": 4749,
    "start_time": "2023-02-16T20:17:19.686Z"
   },
   {
    "duration": 3,
    "start_time": "2023-02-16T20:17:25.837Z"
   },
   {
    "duration": 7,
    "start_time": "2023-02-16T20:17:26.168Z"
   },
   {
    "duration": 7,
    "start_time": "2023-02-16T20:17:26.319Z"
   },
   {
    "duration": 6,
    "start_time": "2023-02-16T20:17:27.147Z"
   },
   {
    "duration": 1822,
    "start_time": "2023-02-17T08:55:51.126Z"
   },
   {
    "duration": 954,
    "start_time": "2023-02-17T08:56:00.699Z"
   },
   {
    "duration": 21,
    "start_time": "2023-02-17T08:56:01.655Z"
   },
   {
    "duration": 54,
    "start_time": "2023-02-17T08:56:01.678Z"
   },
   {
    "duration": 20,
    "start_time": "2023-02-17T08:56:02.329Z"
   },
   {
    "duration": 18,
    "start_time": "2023-02-17T08:56:04.905Z"
   },
   {
    "duration": 11,
    "start_time": "2023-02-17T08:56:05.643Z"
   },
   {
    "duration": 10,
    "start_time": "2023-02-17T08:56:05.940Z"
   },
   {
    "duration": 1093,
    "start_time": "2023-02-17T08:56:06.689Z"
   },
   {
    "duration": 887,
    "start_time": "2023-02-17T08:56:08.467Z"
   },
   {
    "duration": 1047,
    "start_time": "2023-02-17T08:56:09.356Z"
   },
   {
    "duration": 38,
    "start_time": "2023-02-17T08:56:10.897Z"
   },
   {
    "duration": 34,
    "start_time": "2023-02-17T08:56:11.566Z"
   },
   {
    "duration": 35,
    "start_time": "2023-02-17T08:56:13.334Z"
   },
   {
    "duration": 24,
    "start_time": "2023-02-17T08:56:16.304Z"
   },
   {
    "duration": 31,
    "start_time": "2023-02-17T08:56:17.061Z"
   },
   {
    "duration": 36,
    "start_time": "2023-02-17T08:56:19.589Z"
   },
   {
    "duration": 29,
    "start_time": "2023-02-17T08:56:20.840Z"
   },
   {
    "duration": 29,
    "start_time": "2023-02-17T08:56:21.226Z"
   },
   {
    "duration": 22,
    "start_time": "2023-02-17T08:56:21.694Z"
   },
   {
    "duration": 13,
    "start_time": "2023-02-17T08:56:24.944Z"
   },
   {
    "duration": 14,
    "start_time": "2023-02-17T08:56:27.948Z"
   },
   {
    "duration": 14,
    "start_time": "2023-02-17T08:56:28.340Z"
   },
   {
    "duration": 37,
    "start_time": "2023-02-17T08:58:15.374Z"
   },
   {
    "duration": 25,
    "start_time": "2023-02-17T08:58:21.296Z"
   },
   {
    "duration": 29,
    "start_time": "2023-02-17T08:58:26.401Z"
   },
   {
    "duration": 441,
    "start_time": "2023-02-17T08:59:02.043Z"
   },
   {
    "duration": 356,
    "start_time": "2023-02-17T08:59:03.193Z"
   },
   {
    "duration": 318,
    "start_time": "2023-02-17T08:59:05.321Z"
   },
   {
    "duration": 3,
    "start_time": "2023-02-17T09:01:50.107Z"
   },
   {
    "duration": 6,
    "start_time": "2023-02-17T09:03:52.768Z"
   },
   {
    "duration": 4,
    "start_time": "2023-02-17T09:04:12.745Z"
   },
   {
    "duration": 38,
    "start_time": "2023-02-17T09:04:20.269Z"
   },
   {
    "duration": 3,
    "start_time": "2023-02-17T09:04:23.697Z"
   },
   {
    "duration": 5,
    "start_time": "2023-02-17T09:04:59.027Z"
   },
   {
    "duration": 51445,
    "start_time": "2023-02-17T09:05:03.436Z"
   },
   {
    "duration": 28,
    "start_time": "2023-02-17T09:05:54.883Z"
   },
   {
    "duration": 51706,
    "start_time": "2023-02-17T09:05:54.913Z"
   },
   {
    "duration": 14,
    "start_time": "2023-02-17T09:06:46.623Z"
   },
   {
    "duration": 52655,
    "start_time": "2023-02-17T09:06:46.639Z"
   },
   {
    "duration": 23,
    "start_time": "2023-02-17T09:07:39.296Z"
   },
   {
    "duration": 31,
    "start_time": "2023-02-17T09:07:39.325Z"
   },
   {
    "duration": 15,
    "start_time": "2023-02-17T09:07:39.358Z"
   },
   {
    "duration": 5,
    "start_time": "2023-02-17T09:07:44.217Z"
   },
   {
    "duration": 21,
    "start_time": "2023-02-17T09:08:25.874Z"
   },
   {
    "duration": 5,
    "start_time": "2023-02-17T09:08:26.709Z"
   },
   {
    "duration": 15,
    "start_time": "2023-02-17T09:08:35.302Z"
   },
   {
    "duration": 5,
    "start_time": "2023-02-17T09:08:35.909Z"
   },
   {
    "duration": 4,
    "start_time": "2023-02-17T09:17:01.434Z"
   },
   {
    "duration": 263,
    "start_time": "2023-02-17T09:17:04.013Z"
   },
   {
    "duration": 4,
    "start_time": "2023-02-17T09:17:04.432Z"
   },
   {
    "duration": 252,
    "start_time": "2023-02-17T09:17:05.319Z"
   },
   {
    "duration": 4,
    "start_time": "2023-02-17T09:17:05.817Z"
   },
   {
    "duration": 349,
    "start_time": "2023-02-17T09:17:07.351Z"
   },
   {
    "duration": 4,
    "start_time": "2023-02-17T09:17:07.866Z"
   },
   {
    "duration": 2,
    "start_time": "2023-02-17T09:17:13.978Z"
   },
   {
    "duration": 2,
    "start_time": "2023-02-17T09:17:16.073Z"
   },
   {
    "duration": 51,
    "start_time": "2023-02-17T09:17:17.187Z"
   },
   {
    "duration": 7,
    "start_time": "2023-02-17T09:17:41.673Z"
   },
   {
    "duration": 6,
    "start_time": "2023-02-17T09:19:40.513Z"
   },
   {
    "duration": 3,
    "start_time": "2023-02-17T09:24:51.633Z"
   },
   {
    "duration": 3,
    "start_time": "2023-02-17T09:24:55.922Z"
   },
   {
    "duration": 3,
    "start_time": "2023-02-17T09:24:58.327Z"
   },
   {
    "duration": 4,
    "start_time": "2023-02-17T09:25:07.293Z"
   },
   {
    "duration": 8178,
    "start_time": "2023-02-17T09:25:11.451Z"
   },
   {
    "duration": 5,
    "start_time": "2023-02-17T09:36:51.703Z"
   },
   {
    "duration": 3269,
    "start_time": "2023-02-17T09:36:54.395Z"
   },
   {
    "duration": 3,
    "start_time": "2023-02-17T09:38:04.067Z"
   },
   {
    "duration": 7,
    "start_time": "2023-02-17T09:38:05.264Z"
   },
   {
    "duration": 5,
    "start_time": "2023-02-17T09:38:08.666Z"
   },
   {
    "duration": 5,
    "start_time": "2023-02-17T09:38:14.766Z"
   },
   {
    "duration": 4,
    "start_time": "2023-02-17T09:47:52.964Z"
   },
   {
    "duration": 269,
    "start_time": "2023-02-17T09:47:55.268Z"
   },
   {
    "duration": 3,
    "start_time": "2023-02-17T09:50:17.419Z"
   },
   {
    "duration": 331,
    "start_time": "2023-02-17T09:50:19.519Z"
   },
   {
    "duration": 4,
    "start_time": "2023-02-17T09:50:31.274Z"
   },
   {
    "duration": 326,
    "start_time": "2023-02-17T09:50:33.527Z"
   },
   {
    "duration": 4,
    "start_time": "2023-02-17T09:51:11.059Z"
   },
   {
    "duration": 224,
    "start_time": "2023-02-17T09:51:13.061Z"
   },
   {
    "duration": 3,
    "start_time": "2023-02-17T09:52:59.835Z"
   },
   {
    "duration": 329,
    "start_time": "2023-02-17T09:53:01.503Z"
   },
   {
    "duration": 3,
    "start_time": "2023-02-17T09:53:24.822Z"
   },
   {
    "duration": 341,
    "start_time": "2023-02-17T09:53:26.836Z"
   },
   {
    "duration": 3,
    "start_time": "2023-02-17T09:55:56.381Z"
   },
   {
    "duration": 306,
    "start_time": "2023-02-17T09:55:58.029Z"
   },
   {
    "duration": 4,
    "start_time": "2023-02-17T09:56:41.839Z"
   },
   {
    "duration": 343,
    "start_time": "2023-02-17T09:56:43.381Z"
   },
   {
    "duration": 3,
    "start_time": "2023-02-17T09:57:38.278Z"
   },
   {
    "duration": 404,
    "start_time": "2023-02-17T09:57:40.476Z"
   },
   {
    "duration": 4,
    "start_time": "2023-02-17T09:58:51.381Z"
   },
   {
    "duration": 353,
    "start_time": "2023-02-17T09:58:53.672Z"
   },
   {
    "duration": 5,
    "start_time": "2023-02-17T10:25:24.124Z"
   },
   {
    "duration": 361,
    "start_time": "2023-02-17T10:25:25.967Z"
   },
   {
    "duration": 4,
    "start_time": "2023-02-17T10:26:08.130Z"
   },
   {
    "duration": 368,
    "start_time": "2023-02-17T10:26:10.166Z"
   },
   {
    "duration": 4,
    "start_time": "2023-02-17T10:26:58.752Z"
   },
   {
    "duration": 329,
    "start_time": "2023-02-17T10:27:00.721Z"
   },
   {
    "duration": 5,
    "start_time": "2023-02-17T10:27:07.431Z"
   },
   {
    "duration": 353,
    "start_time": "2023-02-17T10:27:09.140Z"
   },
   {
    "duration": 5,
    "start_time": "2023-02-17T10:27:26.972Z"
   },
   {
    "duration": 370,
    "start_time": "2023-02-17T10:27:28.664Z"
   },
   {
    "duration": 4,
    "start_time": "2023-02-17T10:27:50.822Z"
   },
   {
    "duration": 349,
    "start_time": "2023-02-17T10:27:52.386Z"
   },
   {
    "duration": 46,
    "start_time": "2023-02-17T10:30:01.779Z"
   },
   {
    "duration": 4,
    "start_time": "2023-02-17T10:30:29.385Z"
   },
   {
    "duration": 376,
    "start_time": "2023-02-17T10:30:31.489Z"
   },
   {
    "duration": 4,
    "start_time": "2023-02-17T10:30:42.811Z"
   },
   {
    "duration": 377,
    "start_time": "2023-02-17T10:30:44.673Z"
   },
   {
    "duration": 5,
    "start_time": "2023-02-17T10:31:38.397Z"
   },
   {
    "duration": 381,
    "start_time": "2023-02-17T10:31:40.384Z"
   },
   {
    "duration": 5,
    "start_time": "2023-02-17T10:31:49.465Z"
   },
   {
    "duration": 442,
    "start_time": "2023-02-17T10:31:51.094Z"
   },
   {
    "duration": 5,
    "start_time": "2023-02-17T10:33:01.776Z"
   },
   {
    "duration": 644,
    "start_time": "2023-02-17T10:33:03.530Z"
   },
   {
    "duration": 5,
    "start_time": "2023-02-17T10:33:24.270Z"
   },
   {
    "duration": 497,
    "start_time": "2023-02-17T10:33:31.644Z"
   },
   {
    "duration": 5,
    "start_time": "2023-02-17T10:34:15.841Z"
   },
   {
    "duration": 453,
    "start_time": "2023-02-17T10:34:17.783Z"
   },
   {
    "duration": 6,
    "start_time": "2023-02-17T10:42:12.439Z"
   },
   {
    "duration": 50,
    "start_time": "2023-02-17T10:42:29.231Z"
   },
   {
    "duration": 7,
    "start_time": "2023-02-17T10:42:45.266Z"
   },
   {
    "duration": 7,
    "start_time": "2023-02-17T10:42:46.216Z"
   },
   {
    "duration": 1311,
    "start_time": "2023-02-17T10:42:53.239Z"
   },
   {
    "duration": 860,
    "start_time": "2023-02-17T10:42:54.553Z"
   },
   {
    "duration": 16,
    "start_time": "2023-02-17T10:42:55.415Z"
   },
   {
    "duration": 13,
    "start_time": "2023-02-17T10:42:55.433Z"
   },
   {
    "duration": 14,
    "start_time": "2023-02-17T10:42:55.449Z"
   },
   {
    "duration": 12,
    "start_time": "2023-02-17T10:42:55.464Z"
   },
   {
    "duration": 36,
    "start_time": "2023-02-17T10:42:55.477Z"
   },
   {
    "duration": 10,
    "start_time": "2023-02-17T10:42:55.515Z"
   },
   {
    "duration": 989,
    "start_time": "2023-02-17T10:42:55.527Z"
   },
   {
    "duration": 1008,
    "start_time": "2023-02-17T10:42:56.518Z"
   },
   {
    "duration": 1102,
    "start_time": "2023-02-17T10:42:57.528Z"
   },
   {
    "duration": 34,
    "start_time": "2023-02-17T10:42:58.632Z"
   },
   {
    "duration": 51,
    "start_time": "2023-02-17T10:42:58.668Z"
   },
   {
    "duration": 34,
    "start_time": "2023-02-17T10:42:58.722Z"
   },
   {
    "duration": 22,
    "start_time": "2023-02-17T10:42:58.757Z"
   },
   {
    "duration": 41,
    "start_time": "2023-02-17T10:42:58.780Z"
   },
   {
    "duration": 22,
    "start_time": "2023-02-17T10:42:58.822Z"
   },
   {
    "duration": 20,
    "start_time": "2023-02-17T10:42:58.846Z"
   },
   {
    "duration": 49,
    "start_time": "2023-02-17T10:42:58.868Z"
   },
   {
    "duration": 21,
    "start_time": "2023-02-17T10:42:58.918Z"
   },
   {
    "duration": 14,
    "start_time": "2023-02-17T10:42:58.941Z"
   },
   {
    "duration": 15,
    "start_time": "2023-02-17T10:42:58.957Z"
   },
   {
    "duration": 38,
    "start_time": "2023-02-17T10:42:58.974Z"
   },
   {
    "duration": 29,
    "start_time": "2023-02-17T10:42:59.014Z"
   },
   {
    "duration": 22,
    "start_time": "2023-02-17T10:42:59.045Z"
   },
   {
    "duration": 53,
    "start_time": "2023-02-17T10:42:59.069Z"
   },
   {
    "duration": 356,
    "start_time": "2023-02-17T10:42:59.124Z"
   },
   {
    "duration": 352,
    "start_time": "2023-02-17T10:42:59.483Z"
   },
   {
    "duration": 357,
    "start_time": "2023-02-17T10:42:59.836Z"
   },
   {
    "duration": 4,
    "start_time": "2023-02-17T10:43:00.194Z"
   },
   {
    "duration": 53,
    "start_time": "2023-02-17T10:43:00.200Z"
   },
   {
    "duration": 21,
    "start_time": "2023-02-17T10:43:00.255Z"
   },
   {
    "duration": 57,
    "start_time": "2023-02-17T10:43:00.278Z"
   },
   {
    "duration": 53457,
    "start_time": "2023-02-17T10:43:00.337Z"
   },
   {
    "duration": 21,
    "start_time": "2023-02-17T10:43:53.795Z"
   },
   {
    "duration": 49594,
    "start_time": "2023-02-17T10:43:53.817Z"
   },
   {
    "duration": 14,
    "start_time": "2023-02-17T10:44:43.413Z"
   },
   {
    "duration": 51892,
    "start_time": "2023-02-17T10:44:43.429Z"
   },
   {
    "duration": 12,
    "start_time": "2023-02-17T10:45:35.322Z"
   },
   {
    "duration": 7,
    "start_time": "2023-02-17T10:45:35.336Z"
   },
   {
    "duration": 64,
    "start_time": "2023-02-17T10:45:35.347Z"
   },
   {
    "duration": 102,
    "start_time": "2023-02-17T10:45:35.413Z"
   },
   {
    "duration": 8,
    "start_time": "2023-02-17T10:45:35.516Z"
   },
   {
    "duration": 187,
    "start_time": "2023-02-17T10:45:35.526Z"
   },
   {
    "duration": 8,
    "start_time": "2023-02-17T10:45:35.715Z"
   },
   {
    "duration": 94,
    "start_time": "2023-02-17T10:45:35.728Z"
   },
   {
    "duration": 94,
    "start_time": "2023-02-17T10:45:35.825Z"
   },
   {
    "duration": 258,
    "start_time": "2023-02-17T10:45:35.921Z"
   },
   {
    "duration": 4,
    "start_time": "2023-02-17T10:45:36.181Z"
   },
   {
    "duration": 262,
    "start_time": "2023-02-17T10:45:36.186Z"
   },
   {
    "duration": 4,
    "start_time": "2023-02-17T10:45:36.449Z"
   },
   {
    "duration": 256,
    "start_time": "2023-02-17T10:45:36.454Z"
   },
   {
    "duration": 4,
    "start_time": "2023-02-17T10:45:36.711Z"
   },
   {
    "duration": 4,
    "start_time": "2023-02-17T10:45:36.716Z"
   },
   {
    "duration": 3,
    "start_time": "2023-02-17T10:45:36.722Z"
   },
   {
    "duration": 7,
    "start_time": "2023-02-17T10:45:36.727Z"
   },
   {
    "duration": 3,
    "start_time": "2023-02-17T10:45:36.736Z"
   },
   {
    "duration": 7,
    "start_time": "2023-02-17T10:45:36.740Z"
   },
   {
    "duration": 5,
    "start_time": "2023-02-17T10:45:36.748Z"
   },
   {
    "duration": 3223,
    "start_time": "2023-02-17T10:45:36.755Z"
   },
   {
    "duration": 9,
    "start_time": "2023-02-17T10:45:55.979Z"
   },
   {
    "duration": 791,
    "start_time": "2023-02-17T10:45:57.114Z"
   },
   {
    "duration": 6,
    "start_time": "2023-02-17T10:46:12.486Z"
   },
   {
    "duration": 522,
    "start_time": "2023-02-17T10:46:14.737Z"
   },
   {
    "duration": 489,
    "start_time": "2023-02-17T10:47:39.675Z"
   },
   {
    "duration": 583,
    "start_time": "2023-02-17T10:47:40.894Z"
   },
   {
    "duration": 7,
    "start_time": "2023-02-17T10:50:03.529Z"
   },
   {
    "duration": 527,
    "start_time": "2023-02-17T10:50:06.312Z"
   },
   {
    "duration": 534,
    "start_time": "2023-02-17T10:50:07.127Z"
   },
   {
    "duration": 497,
    "start_time": "2023-02-17T10:50:08.176Z"
   },
   {
    "duration": 7,
    "start_time": "2023-02-17T10:50:26.915Z"
   },
   {
    "duration": 501,
    "start_time": "2023-02-17T10:50:27.887Z"
   },
   {
    "duration": 535,
    "start_time": "2023-02-17T10:50:28.604Z"
   },
   {
    "duration": 620,
    "start_time": "2023-02-17T10:50:29.245Z"
   },
   {
    "duration": 1363,
    "start_time": "2023-02-17T10:55:12.149Z"
   },
   {
    "duration": 334,
    "start_time": "2023-02-17T10:55:13.514Z"
   },
   {
    "duration": 15,
    "start_time": "2023-02-17T10:55:13.850Z"
   },
   {
    "duration": 13,
    "start_time": "2023-02-17T10:55:13.866Z"
   },
   {
    "duration": 28,
    "start_time": "2023-02-17T10:55:13.882Z"
   },
   {
    "duration": 13,
    "start_time": "2023-02-17T10:55:13.912Z"
   },
   {
    "duration": 8,
    "start_time": "2023-02-17T10:55:13.927Z"
   },
   {
    "duration": 11,
    "start_time": "2023-02-17T10:55:13.937Z"
   },
   {
    "duration": 1000,
    "start_time": "2023-02-17T10:55:13.950Z"
   },
   {
    "duration": 877,
    "start_time": "2023-02-17T10:55:14.951Z"
   },
   {
    "duration": 1012,
    "start_time": "2023-02-17T10:55:15.830Z"
   },
   {
    "duration": 41,
    "start_time": "2023-02-17T10:55:16.844Z"
   },
   {
    "duration": 57,
    "start_time": "2023-02-17T10:55:16.887Z"
   },
   {
    "duration": 42,
    "start_time": "2023-02-17T10:55:16.948Z"
   },
   {
    "duration": 44,
    "start_time": "2023-02-17T10:55:16.992Z"
   },
   {
    "duration": 31,
    "start_time": "2023-02-17T10:55:17.039Z"
   },
   {
    "duration": 54,
    "start_time": "2023-02-17T10:55:17.072Z"
   },
   {
    "duration": 25,
    "start_time": "2023-02-17T10:55:17.128Z"
   },
   {
    "duration": 19,
    "start_time": "2023-02-17T10:55:17.155Z"
   },
   {
    "duration": 45,
    "start_time": "2023-02-17T10:55:17.176Z"
   },
   {
    "duration": 13,
    "start_time": "2023-02-17T10:55:17.223Z"
   },
   {
    "duration": 11,
    "start_time": "2023-02-17T10:55:17.238Z"
   },
   {
    "duration": 11,
    "start_time": "2023-02-17T10:55:17.250Z"
   },
   {
    "duration": 68,
    "start_time": "2023-02-17T10:55:17.262Z"
   },
   {
    "duration": 27,
    "start_time": "2023-02-17T10:55:17.332Z"
   },
   {
    "duration": 27,
    "start_time": "2023-02-17T10:55:17.361Z"
   },
   {
    "duration": 369,
    "start_time": "2023-02-17T10:55:17.389Z"
   },
   {
    "duration": 366,
    "start_time": "2023-02-17T10:55:17.760Z"
   },
   {
    "duration": 328,
    "start_time": "2023-02-17T10:55:18.127Z"
   },
   {
    "duration": 3,
    "start_time": "2023-02-17T10:55:18.457Z"
   },
   {
    "duration": 27,
    "start_time": "2023-02-17T10:55:18.462Z"
   },
   {
    "duration": 4,
    "start_time": "2023-02-17T10:55:18.491Z"
   },
   {
    "duration": 4,
    "start_time": "2023-02-17T10:55:18.509Z"
   },
   {
    "duration": 54596,
    "start_time": "2023-02-17T10:55:18.515Z"
   },
   {
    "duration": 12,
    "start_time": "2023-02-17T10:56:13.113Z"
   },
   {
    "duration": 48285,
    "start_time": "2023-02-17T10:56:13.126Z"
   },
   {
    "duration": 11,
    "start_time": "2023-02-17T10:57:01.412Z"
   },
   {
    "duration": 51962,
    "start_time": "2023-02-17T10:57:01.424Z"
   },
   {
    "duration": 11,
    "start_time": "2023-02-17T10:57:53.388Z"
   },
   {
    "duration": 2,
    "start_time": "2023-02-17T10:57:53.410Z"
   },
   {
    "duration": 7,
    "start_time": "2023-02-17T10:57:53.416Z"
   },
   {
    "duration": 87,
    "start_time": "2023-02-17T10:57:53.428Z"
   },
   {
    "duration": 99,
    "start_time": "2023-02-17T10:57:53.517Z"
   },
   {
    "duration": 198,
    "start_time": "2023-02-17T10:57:53.617Z"
   },
   {
    "duration": 13,
    "start_time": "2023-02-17T10:57:53.816Z"
   },
   {
    "duration": 186,
    "start_time": "2023-02-17T10:57:53.831Z"
   },
   {
    "duration": 10,
    "start_time": "2023-02-17T10:57:54.019Z"
   },
   {
    "duration": 307,
    "start_time": "2023-02-17T10:57:54.031Z"
   },
   {
    "duration": 4,
    "start_time": "2023-02-17T10:57:54.341Z"
   },
   {
    "duration": 279,
    "start_time": "2023-02-17T10:57:54.347Z"
   },
   {
    "duration": 4,
    "start_time": "2023-02-17T10:57:54.628Z"
   },
   {
    "duration": 290,
    "start_time": "2023-02-17T10:57:54.634Z"
   },
   {
    "duration": 4,
    "start_time": "2023-02-17T10:57:54.925Z"
   },
   {
    "duration": 11,
    "start_time": "2023-02-17T10:57:54.930Z"
   },
   {
    "duration": 9,
    "start_time": "2023-02-17T10:57:54.942Z"
   },
   {
    "duration": 8,
    "start_time": "2023-02-17T10:57:54.952Z"
   },
   {
    "duration": 5,
    "start_time": "2023-02-17T10:57:54.962Z"
   },
   {
    "duration": 8,
    "start_time": "2023-02-17T10:57:54.969Z"
   },
   {
    "duration": 5,
    "start_time": "2023-02-17T10:57:54.978Z"
   },
   {
    "duration": 3351,
    "start_time": "2023-02-17T10:57:54.985Z"
   },
   {
    "duration": 7,
    "start_time": "2023-02-17T10:57:58.337Z"
   },
   {
    "duration": 554,
    "start_time": "2023-02-17T10:57:58.345Z"
   },
   {
    "duration": 513,
    "start_time": "2023-02-17T10:57:58.901Z"
   },
   {
    "duration": 556,
    "start_time": "2023-02-17T10:57:59.416Z"
   },
   {
    "duration": 1546,
    "start_time": "2023-02-18T10:42:40.253Z"
   },
   {
    "duration": 1378,
    "start_time": "2023-02-18T10:42:41.801Z"
   },
   {
    "duration": 15,
    "start_time": "2023-02-18T10:42:43.180Z"
   },
   {
    "duration": 12,
    "start_time": "2023-02-18T10:42:43.197Z"
   },
   {
    "duration": 14,
    "start_time": "2023-02-18T10:42:43.212Z"
   },
   {
    "duration": 15,
    "start_time": "2023-02-18T10:42:43.228Z"
   },
   {
    "duration": 10,
    "start_time": "2023-02-18T10:42:43.245Z"
   },
   {
    "duration": 36,
    "start_time": "2023-02-18T10:42:43.257Z"
   },
   {
    "duration": 1056,
    "start_time": "2023-02-18T10:42:43.296Z"
   },
   {
    "duration": 988,
    "start_time": "2023-02-18T10:42:44.355Z"
   },
   {
    "duration": 1234,
    "start_time": "2023-02-18T10:42:45.345Z"
   },
   {
    "duration": 42,
    "start_time": "2023-02-18T10:42:46.581Z"
   },
   {
    "duration": 34,
    "start_time": "2023-02-18T10:42:46.624Z"
   },
   {
    "duration": 51,
    "start_time": "2023-02-18T10:42:46.660Z"
   },
   {
    "duration": 25,
    "start_time": "2023-02-18T10:42:46.713Z"
   },
   {
    "duration": 24,
    "start_time": "2023-02-18T10:42:46.740Z"
   },
   {
    "duration": 44,
    "start_time": "2023-02-18T10:42:46.765Z"
   },
   {
    "duration": 19,
    "start_time": "2023-02-18T10:42:46.811Z"
   },
   {
    "duration": 21,
    "start_time": "2023-02-18T10:42:46.832Z"
   },
   {
    "duration": 52,
    "start_time": "2023-02-18T10:42:46.854Z"
   },
   {
    "duration": 15,
    "start_time": "2023-02-18T10:42:46.907Z"
   },
   {
    "duration": 17,
    "start_time": "2023-02-18T10:42:46.924Z"
   },
   {
    "duration": 11,
    "start_time": "2023-02-18T10:42:46.943Z"
   },
   {
    "duration": 54,
    "start_time": "2023-02-18T10:42:46.956Z"
   },
   {
    "duration": 21,
    "start_time": "2023-02-18T10:42:47.012Z"
   },
   {
    "duration": 25,
    "start_time": "2023-02-18T10:42:47.035Z"
   },
   {
    "duration": 430,
    "start_time": "2023-02-18T10:42:47.062Z"
   },
   {
    "duration": 349,
    "start_time": "2023-02-18T10:42:47.497Z"
   },
   {
    "duration": 381,
    "start_time": "2023-02-18T10:42:47.848Z"
   },
   {
    "duration": 3,
    "start_time": "2023-02-18T10:42:48.231Z"
   },
   {
    "duration": 48,
    "start_time": "2023-02-18T10:42:48.236Z"
   },
   {
    "duration": 7,
    "start_time": "2023-02-18T10:42:48.286Z"
   },
   {
    "duration": 20,
    "start_time": "2023-02-18T10:42:48.295Z"
   },
   {
    "duration": 59863,
    "start_time": "2023-02-18T10:42:48.316Z"
   },
   {
    "duration": 20,
    "start_time": "2023-02-18T10:43:48.180Z"
   },
   {
    "duration": 53801,
    "start_time": "2023-02-18T10:43:48.201Z"
   },
   {
    "duration": 10,
    "start_time": "2023-02-18T10:44:42.092Z"
   },
   {
    "duration": 60112,
    "start_time": "2023-02-18T10:44:42.103Z"
   },
   {
    "duration": 10,
    "start_time": "2023-02-18T10:45:42.217Z"
   },
   {
    "duration": 13,
    "start_time": "2023-02-18T10:45:42.228Z"
   },
   {
    "duration": 50,
    "start_time": "2023-02-18T10:45:42.243Z"
   },
   {
    "duration": 101,
    "start_time": "2023-02-18T10:45:42.296Z"
   },
   {
    "duration": 10,
    "start_time": "2023-02-18T10:45:42.398Z"
   },
   {
    "duration": 91,
    "start_time": "2023-02-18T10:45:42.409Z"
   },
   {
    "duration": 96,
    "start_time": "2023-02-18T10:45:42.502Z"
   },
   {
    "duration": 191,
    "start_time": "2023-02-18T10:45:42.600Z"
   },
   {
    "duration": 5,
    "start_time": "2023-02-18T10:45:42.793Z"
   },
   {
    "duration": 292,
    "start_time": "2023-02-18T10:45:42.799Z"
   },
   {
    "duration": 4,
    "start_time": "2023-02-18T10:45:43.093Z"
   },
   {
    "duration": 299,
    "start_time": "2023-02-18T10:45:43.099Z"
   },
   {
    "duration": 5,
    "start_time": "2023-02-18T10:45:43.400Z"
   },
   {
    "duration": 305,
    "start_time": "2023-02-18T10:45:43.406Z"
   },
   {
    "duration": 5,
    "start_time": "2023-02-18T10:45:43.713Z"
   },
   {
    "duration": 6,
    "start_time": "2023-02-18T10:45:43.720Z"
   },
   {
    "duration": 10,
    "start_time": "2023-02-18T10:45:43.728Z"
   },
   {
    "duration": 14,
    "start_time": "2023-02-18T10:45:43.740Z"
   },
   {
    "duration": 5,
    "start_time": "2023-02-18T10:45:43.756Z"
   },
   {
    "duration": 10,
    "start_time": "2023-02-18T10:45:43.763Z"
   },
   {
    "duration": 18,
    "start_time": "2023-02-18T10:45:43.775Z"
   },
   {
    "duration": 4014,
    "start_time": "2023-02-18T10:45:43.795Z"
   },
   {
    "duration": 5,
    "start_time": "2023-02-18T10:45:47.812Z"
   },
   {
    "duration": 555,
    "start_time": "2023-02-18T10:45:47.818Z"
   },
   {
    "duration": 498,
    "start_time": "2023-02-18T10:45:48.374Z"
   },
   {
    "duration": 503,
    "start_time": "2023-02-18T10:45:48.873Z"
   },
   {
    "duration": 102,
    "start_time": "2023-02-18T10:47:14.721Z"
   },
   {
    "duration": 21,
    "start_time": "2023-02-18T10:47:34.025Z"
   },
   {
    "duration": 20,
    "start_time": "2023-02-18T10:47:54.505Z"
   },
   {
    "duration": 22,
    "start_time": "2023-02-18T10:48:05.314Z"
   }
  ],
  "kernelspec": {
   "display_name": "Python 3 (ipykernel)",
   "language": "python",
   "name": "python3"
  },
  "language_info": {
   "codemirror_mode": {
    "name": "ipython",
    "version": 3
   },
   "file_extension": ".py",
   "mimetype": "text/x-python",
   "name": "python",
   "nbconvert_exporter": "python",
   "pygments_lexer": "ipython3",
   "version": "3.9.12"
  },
  "toc": {
   "base_numbering": 1,
   "nav_menu": {},
   "number_sections": true,
   "sideBar": true,
   "skip_h1_title": true,
   "title_cell": "Table of Contents",
   "title_sidebar": "Contents",
   "toc_cell": false,
   "toc_position": {
    "height": "calc(100% - 180px)",
    "left": "10px",
    "top": "150px",
    "width": "352.571px"
   },
   "toc_section_display": true,
   "toc_window_display": true
  }
 },
 "nbformat": 4,
 "nbformat_minor": 2
}
